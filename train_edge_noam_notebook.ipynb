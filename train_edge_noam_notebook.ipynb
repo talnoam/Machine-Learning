{
 "cells": [
  {
   "cell_type": "code",
   "execution_count": 1,
   "metadata": {},
   "outputs": [],
   "source": [
    "import os\n",
    "os.environ[\"CUDA_VISIBLE_DEVICES\"]=\"1\"\n",
    "\n",
    "import sys\n",
    "sys.path.append('/home/noamtal/python/2019/results gnn vs no mes no hid/check message passing/helper_functions')\n",
    "\n",
    "import uproot\n",
    "import numpy as np\n",
    "import pandas as pd\n",
    "import glob\n",
    "import networkx as nx\n",
    "import dgl\n",
    "import matplotlib.pyplot as plt\n",
    "import matplotlib.gridspec as gridspec\n",
    "\n",
    "from file_loading import *\n",
    "from pdg_id_dict import *\n",
    "from helper_functions import *\n",
    "from graph_edm import *\n",
    "from graph_plotting import *\n",
    "from dataset_functions import *\n",
    "from gnn_model import *\n",
    "from edge_model_double import *"
   ]
  },
  {
   "cell_type": "code",
   "execution_count": 2,
   "metadata": {},
   "outputs": [],
   "source": [
    "flist = ['/home/noamtal/python/2019/Dataset/test/f_11_bjets.h5',\n",
    " '/home/noamtal/python/2019/Dataset/test/f_11_cjets.h5']"
   ]
  },
  {
   "cell_type": "code",
   "execution_count": 3,
   "metadata": {},
   "outputs": [],
   "source": [
    "flist_ujets = ['/home/noamtal/python/2019/Dataset/test/f_11_ujets.h5']"
   ]
  },
  {
   "cell_type": "code",
   "execution_count": 4,
   "metadata": {},
   "outputs": [],
   "source": [
    "flist_valid = [\n",
    " '/home/noamtal/python/2019/Dataset/test/f_0_bjets.h5',\n",
    " '/home/noamtal/python/2019/Dataset/test/f_0_cjets.h5',\n",
    " '/home/noamtal/python/2019/Dataset/test/f_0_ujets.h5']"
   ]
  },
  {
   "cell_type": "code",
   "execution_count": 5,
   "metadata": {},
   "outputs": [
    {
     "name": "stdout",
     "output_type": "stream",
     "text": [
      "['df_0', 'df_1', 'df_10', 'df_11', 'df_12', 'df_13', 'df_14', 'df_15', 'df_16', 'df_17', 'df_18', 'df_19', 'df_2', 'df_20', 'df_21', 'df_22', 'df_23', 'df_24', 'df_25', 'df_26', 'df_27', 'df_28', 'df_3', 'df_4', 'df_5', 'df_6', 'df_7', 'df_8', 'df_9']\n",
      "['df_0', 'df_1', 'df_10', 'df_11', 'df_12', 'df_13', 'df_14', 'df_15', 'df_16', 'df_17', 'df_18', 'df_19', 'df_2', 'df_20', 'df_21', 'df_22', 'df_23', 'df_24', 'df_25', 'df_26', 'df_27', 'df_28', 'df_3', 'df_4', 'df_5', 'df_6', 'df_7', 'df_8', 'df_9']\n"
     ]
    }
   ],
   "source": [
    "df_list = []\n",
    "for fname in flist:\n",
    "\tf = h5py.File(fname,'r')\n",
    "\tkeylist = [x for x in f.keys()]\n",
    "\tf.close()\n",
    "\tprint(keylist)\n",
    "\tdf_list.append(pd.concat( [pd.read_hdf(fname,key=x)  for x in keylist] ) )\n",
    "\n",
    "graph_df = pd.concat( df_list )"
   ]
  },
  {
   "cell_type": "code",
   "execution_count": 6,
   "metadata": {},
   "outputs": [],
   "source": [
    "graph_df = pd.concat( df_list )"
   ]
  },
  {
   "cell_type": "code",
   "execution_count": 7,
   "metadata": {},
   "outputs": [],
   "source": [
    "graph_df = graph_df.sample(frac=0.16).reset_index(drop=True)"
   ]
  },
  {
   "cell_type": "code",
   "execution_count": 8,
   "metadata": {},
   "outputs": [
    {
     "name": "stdout",
     "output_type": "stream",
     "text": [
      "['df_0', 'df_1', 'df_10', 'df_11', 'df_12', 'df_13', 'df_14', 'df_15', 'df_16', 'df_17', 'df_18', 'df_19', 'df_2', 'df_20', 'df_21', 'df_22', 'df_23', 'df_24', 'df_25', 'df_26', 'df_27', 'df_28', 'df_3', 'df_4', 'df_5', 'df_6', 'df_7', 'df_8', 'df_9']\n"
     ]
    }
   ],
   "source": [
    "df_list = []\n",
    "for fname in flist_ujets:\n",
    "\tf = h5py.File(fname,'r')\n",
    "\tkeylist = [x for x in f.keys()]\n",
    "\tf.close()\n",
    "\tprint(keylist)\n",
    "\tdf_list.append(pd.concat( [pd.read_hdf(fname,key=x)  for x in keylist] ) )"
   ]
  },
  {
   "cell_type": "code",
   "execution_count": 9,
   "metadata": {},
   "outputs": [],
   "source": [
    "graph_df_ujets = pd.concat( df_list )"
   ]
  },
  {
   "cell_type": "code",
   "execution_count": 10,
   "metadata": {},
   "outputs": [],
   "source": [
    "graph_df_ujets = graph_df_ujets.sample(frac=0.03).reset_index(drop=True)"
   ]
  },
  {
   "cell_type": "code",
   "execution_count": 11,
   "metadata": {},
   "outputs": [],
   "source": [
    "graph_df = pd.concat([graph_df,graph_df_ujets])"
   ]
  },
  {
   "cell_type": "code",
   "execution_count": 12,
   "metadata": {},
   "outputs": [
    {
     "name": "stdout",
     "output_type": "stream",
     "text": [
      "['df_0', 'df_1', 'df_2', 'df_3']\n",
      "['df_0', 'df_1', 'df_2', 'df_3']\n",
      "['df_0', 'df_1', 'df_2', 'df_3']\n"
     ]
    }
   ],
   "source": [
    "df_list = []\n",
    "for fname in flist_valid:\n",
    "\tf = h5py.File(fname,'r')\n",
    "\tkeylist = [x for x in f.keys()]\n",
    "\tf.close()\n",
    "\tprint(keylist)\n",
    "\tdf_list.append(pd.concat( [pd.read_hdf(fname,key=x)  for x in keylist] ) )"
   ]
  },
  {
   "cell_type": "code",
   "execution_count": 13,
   "metadata": {},
   "outputs": [],
   "source": [
    "graph_df_valid = pd.concat( df_list )"
   ]
  },
  {
   "cell_type": "code",
   "execution_count": 14,
   "metadata": {},
   "outputs": [],
   "source": [
    "ds = JetGraphDataset([graph_df])\n",
    "ds_valid = JetGraphDataset([graph_df_valid])"
   ]
  },
  {
   "cell_type": "code",
   "execution_count": 15,
   "metadata": {},
   "outputs": [],
   "source": [
    "dataset_loader = torch.utils.data.DataLoader(ds,\n",
    "\t\t\t\t\t\t\t\t\t\t\t batch_size=10, shuffle=True,collate_fn=create_batch_edges,\n",
    "\t\t\t\t\t\t\t\t\t\t\t num_workers=1)"
   ]
  },
  {
   "cell_type": "code",
   "execution_count": 16,
   "metadata": {},
   "outputs": [],
   "source": [
    "dataset_loader_valid = torch.utils.data.DataLoader(ds_valid,\n",
    "\t\t\t\t\t\t\t\t\t\t\t batch_size=150, shuffle=False,collate_fn=create_batch_edges,\n",
    "\t\t\t\t\t\t\t\t\t\t\t num_workers=1)"
   ]
  },
  {
   "cell_type": "code",
   "execution_count": 17,
   "metadata": {},
   "outputs": [],
   "source": [
    "ce_loss = nn.CrossEntropyLoss(reduction='mean')\n",
    "bce_loss = nn.BCEWithLogitsLoss()\n",
    "bce_loss_withoutLogists = nn.BCELoss()"
   ]
  },
  {
   "cell_type": "code",
   "execution_count": 18,
   "metadata": {},
   "outputs": [],
   "source": [
    "def loss_function(yhat,edge_labels,node_labels):\n",
    "\tnode_class = yhat[0]\n",
    "\tedge_class = yhat[1]\n",
    "\tnode_edge_attention =  yhat[2]\n",
    "\tedge_edge_attention = yhat[3]\n",
    "\n",
    "\tbatch_s = len(node_class)\n",
    "\t\n",
    "\tnode_labels[ node_labels < 2 ] = 0\n",
    "\tnode_labels[ node_labels > 1 ] = 1\n",
    "\t\n",
    "\tnode_loss = ce_loss(node_class,node_labels)\n",
    "\t\n",
    "\tedge_loss = bce_loss(edge_class,edge_labels)\n",
    "\t\n",
    "\tnode_edge_loss = bce_loss_withoutLogists(node_edge_attention,edge_labels)\n",
    "\tedge_edge_loss = bce_loss_withoutLogists(edge_edge_attention,edge_labels)\n",
    "\n",
    "\treturn node_loss+edge_loss+node_edge_loss+edge_edge_loss"
   ]
  },
  {
   "cell_type": "code",
   "execution_count": 19,
   "metadata": {},
   "outputs": [],
   "source": [
    "def node_loss_function(yhat,edge_labels,node_labels):\n",
    "\tnode_class = yhat[0]\n",
    "\tedge_class = yhat[1]\n",
    "\t\n",
    "\tnode_labels[ node_labels < 2 ] = 0\n",
    "\tnode_labels[ node_labels > 1 ] = 1\n",
    "\t\n",
    "\tnode_loss = ce_loss(node_class,node_labels)\n",
    "\t\n",
    "\treturn node_loss"
   ]
  },
  {
   "cell_type": "code",
   "execution_count": 20,
   "metadata": {},
   "outputs": [],
   "source": [
    "def edge_loss_function(yhat,edge_labels,node_labels):\n",
    "\tnode_class = yhat[0]\n",
    "\tedge_class = yhat[1]\n",
    "\t\n",
    "\tedge_loss = bce_loss(edge_class,edge_labels)\n",
    "\t\n",
    "\treturn edge_loss"
   ]
  },
  {
   "cell_type": "code",
   "execution_count": 21,
   "metadata": {},
   "outputs": [],
   "source": [
    "gnn_double = JetEdgeClassifierDoubleChannel(hidden_size=128)"
   ]
  },
  {
   "cell_type": "code",
   "execution_count": 21,
   "metadata": {},
   "outputs": [],
   "source": [
    "??gnn_double.forward"
   ]
  },
  {
   "cell_type": "code",
   "execution_count": null,
   "metadata": {},
   "outputs": [],
   "source": [
    "for name, param in model.state_dict().items()"
   ]
  },
  {
   "cell_type": "code",
   "execution_count": 22,
   "metadata": {},
   "outputs": [],
   "source": [
    "import fastai\n",
    "from fastai import *\n",
    "from fastai.vision import *"
   ]
  },
  {
   "cell_type": "code",
   "execution_count": 23,
   "metadata": {},
   "outputs": [],
   "source": [
    "db = DataBunch(train_dl=dataset_loader,valid_dl=dataset_loader_valid,collate_fn=create_batch_edges,fix_dl=dataset_loader)"
   ]
  },
  {
   "cell_type": "code",
   "execution_count": 24,
   "metadata": {},
   "outputs": [],
   "source": [
    "learn_2 = Learner(db,gnn_double,loss_func=loss_function)"
   ]
  },
  {
   "cell_type": "code",
   "execution_count": 25,
   "metadata": {},
   "outputs": [],
   "source": [
    "def write_to_file(filename,trainloss,valloss):\n",
    "\tf = open(filename,'a')\n",
    "\tn_batches = len(trainloss)\n",
    "\tfor batch_i in range(n_batches):\n",
    "\t\tif batch_i!=n_batches-1:\n",
    "\t\t\tf.write(str(trainloss[batch_i])+'\\n')\n",
    "\t\telse:\n",
    "\t\t\tf.write(str(trainloss[batch_i])+'\\t'+str(valloss)+'\\n')\n",
    "\tf.close()"
   ]
  },
  {
   "cell_type": "code",
   "execution_count": 28,
   "metadata": {},
   "outputs": [],
   "source": [
    "for epoch_i in range(100):\n",
    "\t\n",
    "\tif epoch_i in [0,1]:\n",
    "\t\tlr = 1e-03\n",
    "\telif epoch_i in range(2,10):\n",
    "\t\tlr = 1e-04\n",
    "\telse:\n",
    "\t\tlr = 1e-05"
   ]
  },
  {
   "cell_type": "code",
   "execution_count": 29,
   "metadata": {},
   "outputs": [
    {
     "data": {
      "text/html": [
       "<table border=\"1\" class=\"dataframe\">\n",
       "  <thead>\n",
       "    <tr style=\"text-align: left;\">\n",
       "      <th>epoch</th>\n",
       "      <th>train_loss</th>\n",
       "      <th>valid_loss</th>\n",
       "      <th>time</th>\n",
       "    </tr>\n",
       "  </thead>\n",
       "  <tbody>\n",
       "    <tr>\n",
       "      <td>0</td>\n",
       "      <td>0.658554</td>\n",
       "      <td>0.629768</td>\n",
       "      <td>10:33</td>\n",
       "    </tr>\n",
       "    <tr>\n",
       "      <td>1</td>\n",
       "      <td>0.660577</td>\n",
       "      <td>0.616790</td>\n",
       "      <td>10:24</td>\n",
       "    </tr>\n",
       "    <tr>\n",
       "      <td>2</td>\n",
       "      <td>0.645563</td>\n",
       "      <td>0.617226</td>\n",
       "      <td>11:03</td>\n",
       "    </tr>\n",
       "    <tr>\n",
       "      <td>3</td>\n",
       "      <td>0.665630</td>\n",
       "      <td>0.606589</td>\n",
       "      <td>10:39</td>\n",
       "    </tr>\n",
       "    <tr>\n",
       "      <td>4</td>\n",
       "      <td>0.659968</td>\n",
       "      <td>0.590449</td>\n",
       "      <td>10:59</td>\n",
       "    </tr>\n",
       "    <tr>\n",
       "      <td>5</td>\n",
       "      <td>0.625021</td>\n",
       "      <td>0.585071</td>\n",
       "      <td>10:44</td>\n",
       "    </tr>\n",
       "    <tr>\n",
       "      <td>6</td>\n",
       "      <td>0.646029</td>\n",
       "      <td>0.601162</td>\n",
       "      <td>10:57</td>\n",
       "    </tr>\n",
       "    <tr>\n",
       "      <td>7</td>\n",
       "      <td>0.636650</td>\n",
       "      <td>0.569303</td>\n",
       "      <td>10:50</td>\n",
       "    </tr>\n",
       "    <tr>\n",
       "      <td>8</td>\n",
       "      <td>0.623481</td>\n",
       "      <td>0.590054</td>\n",
       "      <td>11:31</td>\n",
       "    </tr>\n",
       "    <tr>\n",
       "      <td>9</td>\n",
       "      <td>0.637780</td>\n",
       "      <td>0.567968</td>\n",
       "      <td>11:06</td>\n",
       "    </tr>\n",
       "  </tbody>\n",
       "</table>"
      ],
      "text/plain": [
       "<IPython.core.display.HTML object>"
      ]
     },
     "metadata": {},
     "output_type": "display_data"
    }
   ],
   "source": [
    "\tlearn_2.fit(10,lr=lr)"
   ]
  },
  {
   "cell_type": "code",
   "execution_count": 30,
   "metadata": {},
   "outputs": [],
   "source": [
    "\ttrain_loss = np.array([x.item() for x in learn_2.recorder.losses])"
   ]
  },
  {
   "cell_type": "code",
   "execution_count": 32,
   "metadata": {},
   "outputs": [],
   "source": [
    "\tval_loss = learn_2.recorder.val_losses[0]"
   ]
  },
  {
   "cell_type": "code",
   "execution_count": 33,
   "metadata": {},
   "outputs": [],
   "source": [
    "\twrite_to_file('/home/noamtal/python/2019/results gnn vs no mes no hid/check message passing/model_gnn_auxEloss_loss_10_epochs.txt',train_loss,val_loss)"
   ]
  },
  {
   "cell_type": "code",
   "execution_count": 39,
   "metadata": {},
   "outputs": [],
   "source": [
    "\ttorch.save(gnn_double, '/home/noamtal/Desktop/model_gnn_auxEloss_'+str(epoch_i)+'.pt')"
   ]
  },
  {
   "cell_type": "code",
   "execution_count": 35,
   "metadata": {},
   "outputs": [
    {
     "data": {
      "image/png": "[encoded data removed]",
      "text/plain": [
       "<Figure size 432x288 with 1 Axes>"
      ]
     },
     "metadata": {
      "needs_background": "light"
     },
     "output_type": "display_data"
    }
   ],
   "source": [
    "learn_2.recorder.plot()"
   ]
  },
  {
   "cell_type": "code",
   "execution_count": null,
   "metadata": {},
   "outputs": [],
   "source": [
    "DataLoader(dataset, batch_size=1, shuffle=False, sampler=None,\n",
    "           batch_sampler=None, num_workers=0, collate_fn=None,\n",
    "           pin_memory=False, drop_last=False, timeout=0,\n",
    "           worker_init_fn=None)"
   ]
  },
  {
   "cell_type": "code",
   "execution_count": 68,
   "metadata": {},
   "outputs": [
    {
     "ename": "AttributeError",
     "evalue": "'JetEdgeClassifier_1' object has no attribute 'node_edge_attention'",
     "output_type": "error",
     "traceback": [
      "\u001b[0;31m---------------------------------------------------------------------------\u001b[0m",
      "\u001b[0;31mAttributeError\u001b[0m                            Traceback (most recent call last)",
      "\u001b[0;32m<ipython-input-68-1c880857a4d3>\u001b[0m in \u001b[0;36m<module>\u001b[0;34m\u001b[0m\n\u001b[0;32m----> 1\u001b[0;31m \u001b[0mgnn_double\u001b[0m\u001b[0;34m.\u001b[0m\u001b[0mnode_classifier\u001b[0m\u001b[0;34m.\u001b[0m\u001b[0mnode_edge_attention\u001b[0m\u001b[0;34m\u001b[0m\u001b[0;34m\u001b[0m\u001b[0m\n\u001b[0m",
      "\u001b[0;32m~/anaconda3/lib/python3.7/site-packages/torch/nn/modules/module.py\u001b[0m in \u001b[0;36m__getattr__\u001b[0;34m(self, name)\u001b[0m\n\u001b[1;32m    537\u001b[0m                 \u001b[0;32mreturn\u001b[0m \u001b[0mmodules\u001b[0m\u001b[0;34m[\u001b[0m\u001b[0mname\u001b[0m\u001b[0;34m]\u001b[0m\u001b[0;34m\u001b[0m\u001b[0;34m\u001b[0m\u001b[0m\n\u001b[1;32m    538\u001b[0m         raise AttributeError(\"'{}' object has no attribute '{}'\".format(\n\u001b[0;32m--> 539\u001b[0;31m             type(self).__name__, name))\n\u001b[0m\u001b[1;32m    540\u001b[0m \u001b[0;34m\u001b[0m\u001b[0m\n\u001b[1;32m    541\u001b[0m     \u001b[0;32mdef\u001b[0m \u001b[0m__setattr__\u001b[0m\u001b[0;34m(\u001b[0m\u001b[0mself\u001b[0m\u001b[0;34m,\u001b[0m \u001b[0mname\u001b[0m\u001b[0;34m,\u001b[0m \u001b[0mvalue\u001b[0m\u001b[0;34m)\u001b[0m\u001b[0;34m:\u001b[0m\u001b[0;34m\u001b[0m\u001b[0;34m\u001b[0m\u001b[0m\n",
      "\u001b[0;31mAttributeError\u001b[0m: 'JetEdgeClassifier_1' object has no attribute 'node_edge_attention'"
     ]
    }
   ],
   "source": [
    "gnn_double.node_classifier.node_edge_attention"
   ]
  },
  {
   "cell_type": "code",
   "execution_count": 90,
   "metadata": {},
   "outputs": [
    {
     "data": {
      "text/plain": [
       "array([0.721541, 0.68197 , 0.71556 , 0.660614, ..., 0.640957, 0.639314, 0.637151, 0.63778 ])"
      ]
     },
     "execution_count": 90,
     "metadata": {},
     "output_type": "execute_result"
    }
   ],
   "source": [
    "train_loss"
   ]
  }
 ],
 "metadata": {
  "kernelspec": {
   "display_name": "Python 3",
   "language": "python",
   "name": "python3"
  },
  "language_info": {
   "codemirror_mode": {
    "name": "ipython",
    "version": 3
   },
   "file_extension": ".py",
   "mimetype": "text/x-python",
   "name": "python",
   "nbconvert_exporter": "python",
   "pygments_lexer": "ipython3",
   "version": "3.7.3"
  }
 },
 "nbformat": 4,
 "nbformat_minor": 2
}
