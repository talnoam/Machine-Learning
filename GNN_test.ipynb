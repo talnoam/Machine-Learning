{
 "cells": [
  {
   "cell_type": "code",
   "execution_count": 1,
   "metadata": {},
   "outputs": [],
   "source": [
    "import sys\n",
    "sys.path.append('../helper_functions/')"
   ]
  },
  {
   "cell_type": "code",
   "execution_count": 7,
   "metadata": {},
   "outputs": [],
   "source": [
    "import gc\n",
    "import os"
   ]
  },
  {
   "cell_type": "code",
   "execution_count": 3,
   "metadata": {},
   "outputs": [],
   "source": [
    "import uproot\n",
    "import numpy as np\n",
    "import pandas as pd\n",
    "import glob\n",
    "import networkx as nx\n",
    "import dgl\n",
    "import matplotlib.pyplot as plt\n",
    "import matplotlib.gridspec as gridspec\n",
    "\n",
    "import importlib\n",
    "import file_loading\n",
    "import pdg_id_dict\n",
    "importlib.reload(file_loading)\n",
    "importlib.reload(pdg_id_dict)\n",
    "\n",
    "from file_loading import *\n",
    "from pdg_id_dict import *"
   ]
  },
  {
   "cell_type": "code",
   "execution_count": 4,
   "metadata": {},
   "outputs": [],
   "source": [
    "import importlib\n",
    "import helper_functions\n",
    "import graph_edm\n",
    "import graph_plotting\n",
    "import dataset_functions\n",
    "import gnn_model\n",
    "importlib.reload(helper_functions)\n",
    "importlib.reload(graph_edm)\n",
    "importlib.reload(graph_plotting)\n",
    "importlib.reload(dataset_functions)\n",
    "importlib.reload(gnn_model)\n",
    "\n",
    "from helper_functions import *\n",
    "from graph_edm import *\n",
    "from graph_plotting import *\n",
    "from dataset_functions import *\n",
    "from gnn_model import *"
   ]
  },
  {
   "cell_type": "code",
   "execution_count": 17,
   "metadata": {},
   "outputs": [
    {
     "data": {
      "text/plain": [
       "['/Users/jshlomi/Desktop/Datasets/j_3/f_12_cjets.pickle',\n",
       " '/Users/jshlomi/Desktop/Datasets/j_3/f_13_ujets.pickle',\n",
       " '/Users/jshlomi/Desktop/Datasets/j_3/f_13_cjets.pickle',\n",
       " '/Users/jshlomi/Desktop/Datasets/j_3/f_12_ujets.pickle',\n",
       " '/Users/jshlomi/Desktop/Datasets/j_3/f_13_bjets.pickle',\n",
       " '/Users/jshlomi/Desktop/Datasets/j_3/f_12_bjets.pickle']"
      ]
     },
     "execution_count": 17,
     "metadata": {},
     "output_type": "execute_result"
    }
   ],
   "source": [
    "glob.glob('/Users/jshlomi/Desktop/Datasets/j_3/*')"
   ]
  },
  {
   "cell_type": "code",
   "execution_count": 7,
   "metadata": {},
   "outputs": [
    {
     "name": "stdout",
     "output_type": "stream",
     "text": [
      "465M\t/Users/jshlomi/Desktop/Datasets/j_4/f_17_ujets.pickle\r\n"
     ]
    }
   ],
   "source": [
    "!du -h /Users/jshlomi/Desktop/Datasets/j_4/f_17_ujets.pickle"
   ]
  },
  {
   "cell_type": "code",
   "execution_count": 5,
   "metadata": {},
   "outputs": [],
   "source": [
    "df_i = pd.read_pickle('/Users/jshlomi/Desktop/Datasets/j_4/f_17_bjets.pickle')"
   ]
  },
  {
   "cell_type": "code",
   "execution_count": 12,
   "metadata": {},
   "outputs": [
    {
     "data": {
      "text/plain": [
       "'f_17_bjets'"
      ]
     },
     "execution_count": 12,
     "metadata": {},
     "output_type": "execute_result"
    }
   ],
   "source": [
    "os.path.basename('/Users/jshlomi/Desktop/Datasets/j_4/f_17_bjets.pickle')[:-7]"
   ]
  },
  {
   "cell_type": "code",
   "execution_count": 6,
   "metadata": {},
   "outputs": [
    {
     "data": {
      "text/plain": [
       "Index                  814136\n",
       "graph                 4070680\n",
       "eventnb                814136\n",
       "actmu                  814136\n",
       "jet_index              814136\n",
       "jet_pt                 814136\n",
       "jet_eta                814136\n",
       "jet_DoubleHadLabel     814136\n",
       "dtype: int64"
      ]
     },
     "execution_count": 6,
     "metadata": {},
     "output_type": "execute_result"
    }
   ],
   "source": [
    "df_i.memory_usage(deep=True)"
   ]
  },
  {
   "cell_type": "code",
   "execution_count": 7,
   "metadata": {},
   "outputs": [
    {
     "data": {
      "text/plain": [
       "101767"
      ]
     },
     "execution_count": 7,
     "metadata": {},
     "output_type": "execute_result"
    }
   ],
   "source": [
    "len(df_i)"
   ]
  },
  {
   "cell_type": "code",
   "execution_count": 8,
   "metadata": {},
   "outputs": [],
   "source": [
    "glist = [x for x in df_i.graph]"
   ]
  },
  {
   "cell_type": "code",
   "execution_count": 9,
   "metadata": {},
   "outputs": [],
   "source": [
    "df_i = df_i.drop(['graph'], axis=1)"
   ]
  },
  {
   "cell_type": "code",
   "execution_count": null,
   "metadata": {},
   "outputs": [],
   "source": []
  },
  {
   "cell_type": "code",
   "execution_count": 10,
   "metadata": {},
   "outputs": [
    {
     "data": {
      "text/plain": [
       "dict_keys(['graph', 'flav', 'pt_eta', 'node_features', 'node_labels', 'edge_labels'])"
      ]
     },
     "execution_count": 10,
     "metadata": {},
     "output_type": "execute_result"
    }
   ],
   "source": [
    "create_dgl( glist[8].get_reco_graph() ).keys()"
   ]
  },
  {
   "cell_type": "code",
   "execution_count": 14,
   "metadata": {},
   "outputs": [],
   "source": [
    "def convert_file(fname):\n",
    "    \n",
    "    df_i = pd.read_pickle(fname)\n",
    "    glist = [x for x in df_i.graph]\n",
    "    df_i = df_i.drop(['graph'], axis=1)\n",
    "    \n",
    "    n_features = []\n",
    "    n_labels = []\n",
    "\n",
    "    for i in range(len(glist)):\n",
    "        if i % 5000 == 0:\n",
    "            print(i)\n",
    "        dgl_i = create_dgl( glist[i].get_reco_graph() )\n",
    "        n_features.append(dgl_i['node_features'])\n",
    "        n_labels.append(dgl_i['node_labels'])\n",
    "        \n",
    "    df_i['node_features'] = [x.data.numpy() for x in n_features]\n",
    "    df_i['node_labels'] = [x.data.numpy() for x in n_labels]\n",
    "    \n",
    "    df_i.to_hdf(os.path.basename(fname)[:-7]+'.h5',key='df')\n",
    "    "
   ]
  },
  {
   "cell_type": "code",
   "execution_count": 19,
   "metadata": {},
   "outputs": [
    {
     "name": "stdout",
     "output_type": "stream",
     "text": [
      "0\n",
      "5000\n",
      "10000\n",
      "15000\n",
      "20000\n",
      "25000\n",
      "30000\n",
      "35000\n",
      "40000\n",
      "45000\n",
      "50000\n",
      "55000\n",
      "60000\n",
      "65000\n",
      "70000\n",
      "75000\n",
      "80000\n",
      "85000\n",
      "90000\n",
      "95000\n",
      "100000\n"
     ]
    },
    {
     "name": "stderr",
     "output_type": "stream",
     "text": [
      "/anaconda3/lib/python3.7/site-packages/pandas/core/generic.py:2377: PerformanceWarning: \n",
      "your performance may suffer as PyTables will pickle object types that it cannot\n",
      "map directly to c-types [inferred_type->mixed,key->block2_values] [items->['node_features', 'node_labels']]\n",
      "\n",
      "  return pytables.to_hdf(path_or_buf, key, self, **kwargs)\n"
     ]
    },
    {
     "name": "stdout",
     "output_type": "stream",
     "text": [
      "0\n",
      "5000\n",
      "10000\n",
      "15000\n",
      "20000\n",
      "25000\n",
      "30000\n",
      "35000\n",
      "40000\n",
      "45000\n",
      "50000\n",
      "55000\n",
      "60000\n",
      "65000\n",
      "70000\n",
      "75000\n",
      "80000\n",
      "85000\n",
      "90000\n",
      "95000\n",
      "100000\n"
     ]
    },
    {
     "name": "stderr",
     "output_type": "stream",
     "text": [
      "/anaconda3/lib/python3.7/site-packages/pandas/core/generic.py:2377: PerformanceWarning: \n",
      "your performance may suffer as PyTables will pickle object types that it cannot\n",
      "map directly to c-types [inferred_type->mixed,key->block2_values] [items->['node_features', 'node_labels']]\n",
      "\n",
      "  return pytables.to_hdf(path_or_buf, key, self, **kwargs)\n"
     ]
    },
    {
     "name": "stdout",
     "output_type": "stream",
     "text": [
      "0\n",
      "5000\n",
      "10000\n",
      "15000\n",
      "20000\n",
      "25000\n",
      "30000\n",
      "35000\n",
      "40000\n",
      "45000\n",
      "50000\n",
      "55000\n",
      "60000\n",
      "65000\n",
      "70000\n",
      "75000\n",
      "80000\n",
      "85000\n",
      "90000\n",
      "95000\n",
      "100000\n"
     ]
    },
    {
     "name": "stderr",
     "output_type": "stream",
     "text": [
      "/anaconda3/lib/python3.7/site-packages/pandas/core/generic.py:2377: PerformanceWarning: \n",
      "your performance may suffer as PyTables will pickle object types that it cannot\n",
      "map directly to c-types [inferred_type->mixed,key->block2_values] [items->['node_features', 'node_labels']]\n",
      "\n",
      "  return pytables.to_hdf(path_or_buf, key, self, **kwargs)\n"
     ]
    },
    {
     "name": "stdout",
     "output_type": "stream",
     "text": [
      "0\n",
      "5000\n",
      "10000\n",
      "15000\n",
      "20000\n",
      "25000\n",
      "30000\n",
      "35000\n",
      "40000\n",
      "45000\n",
      "50000\n",
      "55000\n",
      "60000\n",
      "65000\n",
      "70000\n",
      "75000\n",
      "80000\n",
      "85000\n",
      "90000\n",
      "95000\n",
      "100000\n"
     ]
    },
    {
     "name": "stderr",
     "output_type": "stream",
     "text": [
      "/anaconda3/lib/python3.7/site-packages/pandas/core/generic.py:2377: PerformanceWarning: \n",
      "your performance may suffer as PyTables will pickle object types that it cannot\n",
      "map directly to c-types [inferred_type->mixed,key->block2_values] [items->['node_features', 'node_labels']]\n",
      "\n",
      "  return pytables.to_hdf(path_or_buf, key, self, **kwargs)\n"
     ]
    },
    {
     "name": "stdout",
     "output_type": "stream",
     "text": [
      "0\n",
      "5000\n",
      "10000\n",
      "15000\n",
      "20000\n",
      "25000\n",
      "30000\n",
      "35000\n",
      "40000\n",
      "45000\n",
      "50000\n",
      "55000\n",
      "60000\n",
      "65000\n",
      "70000\n",
      "75000\n",
      "80000\n",
      "85000\n",
      "90000\n",
      "95000\n",
      "100000\n"
     ]
    },
    {
     "name": "stderr",
     "output_type": "stream",
     "text": [
      "/anaconda3/lib/python3.7/site-packages/pandas/core/generic.py:2377: PerformanceWarning: \n",
      "your performance may suffer as PyTables will pickle object types that it cannot\n",
      "map directly to c-types [inferred_type->mixed,key->block2_values] [items->['node_features', 'node_labels']]\n",
      "\n",
      "  return pytables.to_hdf(path_or_buf, key, self, **kwargs)\n"
     ]
    },
    {
     "name": "stdout",
     "output_type": "stream",
     "text": [
      "0\n",
      "5000\n",
      "10000\n",
      "15000\n",
      "20000\n",
      "25000\n",
      "30000\n",
      "35000\n",
      "40000\n",
      "45000\n",
      "50000\n",
      "55000\n",
      "60000\n",
      "65000\n",
      "70000\n",
      "75000\n",
      "80000\n",
      "85000\n",
      "90000\n",
      "95000\n",
      "100000\n"
     ]
    },
    {
     "name": "stderr",
     "output_type": "stream",
     "text": [
      "/anaconda3/lib/python3.7/site-packages/pandas/core/generic.py:2377: PerformanceWarning: \n",
      "your performance may suffer as PyTables will pickle object types that it cannot\n",
      "map directly to c-types [inferred_type->mixed,key->block2_values] [items->['node_features', 'node_labels']]\n",
      "\n",
      "  return pytables.to_hdf(path_or_buf, key, self, **kwargs)\n"
     ]
    }
   ],
   "source": [
    "for fname in glob.glob('/Users/jshlomi/Desktop/Datasets/j_3/*'):\n",
    "    convert_file(fname)"
   ]
  },
  {
   "cell_type": "code",
   "execution_count": 4,
   "metadata": {},
   "outputs": [],
   "source": [
    "graph_df = pd.concat( [pd.read_pickle(x) for x in glob.glob('/Users/jshlomi/Desktop/Datasets/j_4/*')] )"
   ]
  },
  {
   "cell_type": "code",
   "execution_count": 17,
   "metadata": {},
   "outputs": [],
   "source": [
    "df_i['node_features'] = [x.data.numpy() for x in n_features]\n",
    "df_i['node_labels'] = [x.data.numpy() for x in n_labels]"
   ]
  },
  {
   "cell_type": "code",
   "execution_count": 18,
   "metadata": {},
   "outputs": [
    {
     "name": "stdout",
     "output_type": "stream",
     "text": [
      "<class 'pandas.core.frame.DataFrame'>\n",
      "Int64Index: 101767 entries, 0 to 0\n",
      "Data columns (total 8 columns):\n",
      "eventnb               101767 non-null float64\n",
      "actmu                 101767 non-null float64\n",
      "jet_index             101767 non-null int64\n",
      "jet_pt                101767 non-null float64\n",
      "jet_eta               101767 non-null float64\n",
      "jet_DoubleHadLabel    101767 non-null int64\n",
      "node_features         101767 non-null object\n",
      "node_labels           101767 non-null object\n",
      "dtypes: float64(4), int64(2), object(2)\n",
      "memory usage: 7.0+ MB\n"
     ]
    }
   ],
   "source": [
    "df_i.info()"
   ]
  },
  {
   "cell_type": "code",
   "execution_count": 21,
   "metadata": {},
   "outputs": [
    {
     "name": "stderr",
     "output_type": "stream",
     "text": [
      "/anaconda3/lib/python3.7/site-packages/pandas/core/generic.py:2377: PerformanceWarning: \n",
      "your performance may suffer as PyTables will pickle object types that it cannot\n",
      "map directly to c-types [inferred_type->mixed,key->block2_values] [items->['node_features', 'node_labels']]\n",
      "\n",
      "  return pytables.to_hdf(path_or_buf, key, self, **kwargs)\n"
     ]
    }
   ],
   "source": [
    "df_i.to_hdf('test.h5',key='df')"
   ]
  },
  {
   "cell_type": "code",
   "execution_count": 5,
   "metadata": {},
   "outputs": [],
   "source": [
    "df_i = pd.read_hdf('test.h5')"
   ]
  },
  {
   "cell_type": "code",
   "execution_count": 6,
   "metadata": {},
   "outputs": [
    {
     "data": {
      "text/html": [
       "<div>\n",
       "<style scoped>\n",
       "    .dataframe tbody tr th:only-of-type {\n",
       "        vertical-align: middle;\n",
       "    }\n",
       "\n",
       "    .dataframe tbody tr th {\n",
       "        vertical-align: top;\n",
       "    }\n",
       "\n",
       "    .dataframe thead th {\n",
       "        text-align: right;\n",
       "    }\n",
       "</style>\n",
       "<table border=\"1\" class=\"dataframe\">\n",
       "  <thead>\n",
       "    <tr style=\"text-align: right;\">\n",
       "      <th></th>\n",
       "      <th>eventnb</th>\n",
       "      <th>actmu</th>\n",
       "      <th>jet_index</th>\n",
       "      <th>jet_pt</th>\n",
       "      <th>jet_eta</th>\n",
       "      <th>jet_DoubleHadLabel</th>\n",
       "      <th>node_features</th>\n",
       "      <th>node_labels</th>\n",
       "    </tr>\n",
       "  </thead>\n",
       "  <tbody>\n",
       "    <tr>\n",
       "      <th>0</th>\n",
       "      <td>374672523.0</td>\n",
       "      <td>23.0</td>\n",
       "      <td>6</td>\n",
       "      <td>20455.300781</td>\n",
       "      <td>-2.439840</td>\n",
       "      <td>5</td>\n",
       "      <td>[[537.67224, -0.0868947, -0.08575548, 29.73025...</td>\n",
       "      <td>[0, 0, 0, 0, 2, 0, 0, 0]</td>\n",
       "    </tr>\n",
       "    <tr>\n",
       "      <th>0</th>\n",
       "      <td>335801386.0</td>\n",
       "      <td>21.0</td>\n",
       "      <td>7</td>\n",
       "      <td>20527.683594</td>\n",
       "      <td>-2.401576</td>\n",
       "      <td>5</td>\n",
       "      <td>[[2849.4578, -19.322102, 19.307457, 8.109674, ...</td>\n",
       "      <td>[0, 3, 0, 3, 2, 0]</td>\n",
       "    </tr>\n",
       "    <tr>\n",
       "      <th>0</th>\n",
       "      <td>339020865.0</td>\n",
       "      <td>15.0</td>\n",
       "      <td>5</td>\n",
       "      <td>20662.048828</td>\n",
       "      <td>-2.407567</td>\n",
       "      <td>5</td>\n",
       "      <td>[[969.93463, -0.1922895, -0.17928883, 35.23100...</td>\n",
       "      <td>[0, 0, 2, 1, 0, 3, 0, 0]</td>\n",
       "    </tr>\n",
       "    <tr>\n",
       "      <th>0</th>\n",
       "      <td>339045870.0</td>\n",
       "      <td>31.0</td>\n",
       "      <td>6</td>\n",
       "      <td>20225.113281</td>\n",
       "      <td>-2.493184</td>\n",
       "      <td>5</td>\n",
       "      <td>[[1748.8486, -0.43932858, 0.44665313, 0.006834...</td>\n",
       "      <td>[3, 0, 3, 0, 2, 0]</td>\n",
       "    </tr>\n",
       "    <tr>\n",
       "      <th>0</th>\n",
       "      <td>340216248.0</td>\n",
       "      <td>28.0</td>\n",
       "      <td>5</td>\n",
       "      <td>20164.908203</td>\n",
       "      <td>-2.408214</td>\n",
       "      <td>5</td>\n",
       "      <td>[[1721.0725, 0.06478406, 0.07638735, 1.6631126...</td>\n",
       "      <td>[2, 2, 2, 2, 0, 2, 0]</td>\n",
       "    </tr>\n",
       "    <tr>\n",
       "      <th>0</th>\n",
       "      <td>340232862.0</td>\n",
       "      <td>15.0</td>\n",
       "      <td>9</td>\n",
       "      <td>20391.765625</td>\n",
       "      <td>-2.490672</td>\n",
       "      <td>5</td>\n",
       "      <td>[[551.7835, -0.023913207, -0.026317673, 37.521...</td>\n",
       "      <td>[0, 0, 0, 1, 1, 1]</td>\n",
       "    </tr>\n",
       "    <tr>\n",
       "      <th>0</th>\n",
       "      <td>346823319.0</td>\n",
       "      <td>19.0</td>\n",
       "      <td>4</td>\n",
       "      <td>20660.621094</td>\n",
       "      <td>-2.438652</td>\n",
       "      <td>5</td>\n",
       "      <td>[[3257.5845, 0.09365163, -0.07722314, 0.592998...</td>\n",
       "      <td>[1, 2, 0, 0, 0, 0, 0]</td>\n",
       "    </tr>\n",
       "    <tr>\n",
       "      <th>0</th>\n",
       "      <td>346824616.0</td>\n",
       "      <td>21.0</td>\n",
       "      <td>8</td>\n",
       "      <td>20760.292969</td>\n",
       "      <td>-2.423998</td>\n",
       "      <td>5</td>\n",
       "      <td>[[11204.255, 0.0103100445, 0.012716724, -1.231...</td>\n",
       "      <td>[2, 0, 2]</td>\n",
       "    </tr>\n",
       "    <tr>\n",
       "      <th>0</th>\n",
       "      <td>346826000.0</td>\n",
       "      <td>40.0</td>\n",
       "      <td>7</td>\n",
       "      <td>20236.369141</td>\n",
       "      <td>-2.422040</td>\n",
       "      <td>5</td>\n",
       "      <td>[[1092.9368, 0.30744937, -0.31235176, -3.33814...</td>\n",
       "      <td>[0, 0, 2, 0, 0, 3, 1, 1, 1, 1, 4, 0, 3, 0, 2, ...</td>\n",
       "    </tr>\n",
       "    <tr>\n",
       "      <th>0</th>\n",
       "      <td>346837590.0</td>\n",
       "      <td>25.0</td>\n",
       "      <td>6</td>\n",
       "      <td>20766.984375</td>\n",
       "      <td>-2.492789</td>\n",
       "      <td>5</td>\n",
       "      <td>[[545.87366, 0.06004437, 0.05866018, -41.98510...</td>\n",
       "      <td>[0, 0, 3, 2, 4, 0, 0, 0]</td>\n",
       "    </tr>\n",
       "    <tr>\n",
       "      <th>0</th>\n",
       "      <td>348486248.0</td>\n",
       "      <td>18.0</td>\n",
       "      <td>8</td>\n",
       "      <td>20854.851562</td>\n",
       "      <td>-2.492242</td>\n",
       "      <td>5</td>\n",
       "      <td>[[4087.7253, -0.035784718, 0.03767604, -0.7371...</td>\n",
       "      <td>[3, 0, 2, 4, 2, 2, 0]</td>\n",
       "    </tr>\n",
       "    <tr>\n",
       "      <th>0</th>\n",
       "      <td>348602536.0</td>\n",
       "      <td>22.0</td>\n",
       "      <td>5</td>\n",
       "      <td>20928.578125</td>\n",
       "      <td>-2.438547</td>\n",
       "      <td>5</td>\n",
       "      <td>[[578.38605, -0.7601497, -0.7569912, 0.1122627...</td>\n",
       "      <td>[0, 2, 2, 0, 0]</td>\n",
       "    </tr>\n",
       "    <tr>\n",
       "      <th>0</th>\n",
       "      <td>348847858.0</td>\n",
       "      <td>15.0</td>\n",
       "      <td>7</td>\n",
       "      <td>20091.197266</td>\n",
       "      <td>-2.450132</td>\n",
       "      <td>5</td>\n",
       "      <td>[[1265.9548, 0.1369715, 0.14820822, -1.8022842...</td>\n",
       "      <td>[2, 0, 1]</td>\n",
       "    </tr>\n",
       "    <tr>\n",
       "      <th>0</th>\n",
       "      <td>356221767.0</td>\n",
       "      <td>29.0</td>\n",
       "      <td>11</td>\n",
       "      <td>20600.712891</td>\n",
       "      <td>-2.443961</td>\n",
       "      <td>5</td>\n",
       "      <td>[[2347.2432, 0.1214471, 0.118902296, -1.102134...</td>\n",
       "      <td>[2, 2, 3, 0, 3, 0, 0, 0]</td>\n",
       "    </tr>\n",
       "    <tr>\n",
       "      <th>0</th>\n",
       "      <td>364038077.0</td>\n",
       "      <td>34.0</td>\n",
       "      <td>5</td>\n",
       "      <td>20650.347656</td>\n",
       "      <td>-2.442466</td>\n",
       "      <td>5</td>\n",
       "      <td>[[858.7478, 0.08798836, -0.08740018, 43.05741,...</td>\n",
       "      <td>[0, 0, 0, 0, 2, 0, 0, 3, 3, 0, 0, 3]</td>\n",
       "    </tr>\n",
       "    <tr>\n",
       "      <th>0</th>\n",
       "      <td>373196355.0</td>\n",
       "      <td>20.0</td>\n",
       "      <td>4</td>\n",
       "      <td>20883.431641</td>\n",
       "      <td>-2.332073</td>\n",
       "      <td>5</td>\n",
       "      <td>[[542.91974, -0.12379459, 0.112446785, -14.156...</td>\n",
       "      <td>[0, 3, 2, 2, 0, 0, 2, 3, 1, 0, 0, 0]</td>\n",
       "    </tr>\n",
       "    <tr>\n",
       "      <th>0</th>\n",
       "      <td>373599065.0</td>\n",
       "      <td>34.0</td>\n",
       "      <td>6</td>\n",
       "      <td>20654.187500</td>\n",
       "      <td>-2.358651</td>\n",
       "      <td>5</td>\n",
       "      <td>[[628.32416, -1.0000422, 1.0039151, -288.1806,...</td>\n",
       "      <td>[0, 0, 0, 1, 0, 0, 3, 0, 0, 0, 0, 3, 2]</td>\n",
       "    </tr>\n",
       "    <tr>\n",
       "      <th>0</th>\n",
       "      <td>373626554.0</td>\n",
       "      <td>22.0</td>\n",
       "      <td>6</td>\n",
       "      <td>20180.595703</td>\n",
       "      <td>-2.397094</td>\n",
       "      <td>5</td>\n",
       "      <td>[[683.4449, -0.18719004, 0.18181519, -0.769994...</td>\n",
       "      <td>[2, 2, 1, 0, 0, 0, 3, 3, 2, 2]</td>\n",
       "    </tr>\n",
       "    <tr>\n",
       "      <th>0</th>\n",
       "      <td>374670715.0</td>\n",
       "      <td>19.0</td>\n",
       "      <td>5</td>\n",
       "      <td>20175.283203</td>\n",
       "      <td>-2.316388</td>\n",
       "      <td>5</td>\n",
       "      <td>[[1986.1603, -2.2237287, -2.2260091, 126.09444...</td>\n",
       "      <td>[0, 0, 2, 0, 1, 1, 0, 0, 0]</td>\n",
       "    </tr>\n",
       "    <tr>\n",
       "      <th>0</th>\n",
       "      <td>338994601.0</td>\n",
       "      <td>21.0</td>\n",
       "      <td>7</td>\n",
       "      <td>20341.533203</td>\n",
       "      <td>-2.364448</td>\n",
       "      <td>5</td>\n",
       "      <td>[[5121.119, -0.0069681834, -0.0008485802, -0.1...</td>\n",
       "      <td>[3, 2, 3, 2, 2]</td>\n",
       "    </tr>\n",
       "    <tr>\n",
       "      <th>0</th>\n",
       "      <td>339020875.0</td>\n",
       "      <td>15.0</td>\n",
       "      <td>2</td>\n",
       "      <td>20435.115234</td>\n",
       "      <td>-2.319986</td>\n",
       "      <td>5</td>\n",
       "      <td>[[5169.3584, -0.9276991, 0.9295273, 3.2696037,...</td>\n",
       "      <td>[0, 2, 1, 2, 0]</td>\n",
       "    </tr>\n",
       "    <tr>\n",
       "      <th>0</th>\n",
       "      <td>340232543.0</td>\n",
       "      <td>22.0</td>\n",
       "      <td>7</td>\n",
       "      <td>20594.636719</td>\n",
       "      <td>-2.377162</td>\n",
       "      <td>5</td>\n",
       "      <td>[[1269.4448, 0.11918973, 0.10785483, 0.6652536...</td>\n",
       "      <td>[3, 3, 0, 3, 0, 0, 3, 0, 0, 1, 0, 2]</td>\n",
       "    </tr>\n",
       "    <tr>\n",
       "      <th>0</th>\n",
       "      <td>346820545.0</td>\n",
       "      <td>22.0</td>\n",
       "      <td>6</td>\n",
       "      <td>20696.855469</td>\n",
       "      <td>-2.343964</td>\n",
       "      <td>5</td>\n",
       "      <td>[[529.8091, -6.4493985, 6.4626465, -52.10557, ...</td>\n",
       "      <td>[0, 3, 0, 1, 2, 1]</td>\n",
       "    </tr>\n",
       "    <tr>\n",
       "      <th>0</th>\n",
       "      <td>346825460.0</td>\n",
       "      <td>22.0</td>\n",
       "      <td>6</td>\n",
       "      <td>20723.166016</td>\n",
       "      <td>-2.300905</td>\n",
       "      <td>5</td>\n",
       "      <td>[[1110.9579, 0.33424458, 0.3335218, 3.1094704,...</td>\n",
       "      <td>[3, 0, 0, 0, 2, 0, 0, 0, 0, 1, 0, 0]</td>\n",
       "    </tr>\n",
       "    <tr>\n",
       "      <th>0</th>\n",
       "      <td>348602473.0</td>\n",
       "      <td>24.0</td>\n",
       "      <td>6</td>\n",
       "      <td>20541.326172</td>\n",
       "      <td>-2.384883</td>\n",
       "      <td>5</td>\n",
       "      <td>[[2242.6519, 0.13633278, 0.14553231, 1.5938816...</td>\n",
       "      <td>[2, 0, 1, 3, 2, 4, 2]</td>\n",
       "    </tr>\n",
       "    <tr>\n",
       "      <th>0</th>\n",
       "      <td>348604350.0</td>\n",
       "      <td>26.0</td>\n",
       "      <td>9</td>\n",
       "      <td>20633.238281</td>\n",
       "      <td>-2.379793</td>\n",
       "      <td>5</td>\n",
       "      <td>[[620.9065, -0.16058755, 0.17105147, -107.7411...</td>\n",
       "      <td>[0, 0, 3, 1, 3, 0, 0, 2, 1, 0]</td>\n",
       "    </tr>\n",
       "    <tr>\n",
       "      <th>0</th>\n",
       "      <td>348673926.0</td>\n",
       "      <td>33.0</td>\n",
       "      <td>9</td>\n",
       "      <td>20419.115234</td>\n",
       "      <td>-2.397425</td>\n",
       "      <td>5</td>\n",
       "      <td>[[1125.0613, -0.264412, -0.2614739, -0.477808,...</td>\n",
       "      <td>[3, 3, 0, 3, 2, 3, 0, 3, 3]</td>\n",
       "    </tr>\n",
       "    <tr>\n",
       "      <th>0</th>\n",
       "      <td>348675145.0</td>\n",
       "      <td>15.0</td>\n",
       "      <td>5</td>\n",
       "      <td>20791.771484</td>\n",
       "      <td>-2.343113</td>\n",
       "      <td>5</td>\n",
       "      <td>[[3807.1665, -0.017781137, -0.037475612, -0.10...</td>\n",
       "      <td>[1, 0, 2, 0, 4, 0, 0, 3, 3, 0, 0]</td>\n",
       "    </tr>\n",
       "    <tr>\n",
       "      <th>0</th>\n",
       "      <td>347860939.0</td>\n",
       "      <td>34.0</td>\n",
       "      <td>11</td>\n",
       "      <td>20154.310547</td>\n",
       "      <td>-2.313939</td>\n",
       "      <td>5</td>\n",
       "      <td>[[1154.1332, -0.045238014, -0.03653431, 41.168...</td>\n",
       "      <td>[0, 0, 2, 0, 5, 4, 0, 0, 0, 0, 3, 0, 0, 0, 0, ...</td>\n",
       "    </tr>\n",
       "    <tr>\n",
       "      <th>0</th>\n",
       "      <td>347964286.0</td>\n",
       "      <td>18.0</td>\n",
       "      <td>4</td>\n",
       "      <td>20536.201172</td>\n",
       "      <td>-2.365870</td>\n",
       "      <td>5</td>\n",
       "      <td>[[599.8405, 0.048127435, -0.04738565, -0.49900...</td>\n",
       "      <td>[2, 2, 2, 0, 0, 0, 0, 0, 3, 0]</td>\n",
       "    </tr>\n",
       "    <tr>\n",
       "      <th>...</th>\n",
       "      <td>...</td>\n",
       "      <td>...</td>\n",
       "      <td>...</td>\n",
       "      <td>...</td>\n",
       "      <td>...</td>\n",
       "      <td>...</td>\n",
       "      <td>...</td>\n",
       "      <td>...</td>\n",
       "    </tr>\n",
       "    <tr>\n",
       "      <th>0</th>\n",
       "      <td>338994004.0</td>\n",
       "      <td>0.0</td>\n",
       "      <td>1</td>\n",
       "      <td>246513.546875</td>\n",
       "      <td>0.389653</td>\n",
       "      <td>5</td>\n",
       "      <td>[[19964.674, 0.0010318228, -0.004395318, -0.03...</td>\n",
       "      <td>[2, 1, 2, 2, 2, 1, 2, 2, 1, 2, 2]</td>\n",
       "    </tr>\n",
       "    <tr>\n",
       "      <th>0</th>\n",
       "      <td>361489345.0</td>\n",
       "      <td>20.0</td>\n",
       "      <td>0</td>\n",
       "      <td>246074.031250</td>\n",
       "      <td>0.383529</td>\n",
       "      <td>5</td>\n",
       "      <td>[[1780.5284, 0.10102411, -0.10291753, -0.02292...</td>\n",
       "      <td>[1, 3, 2, 1, 4, 0, 1, 1, 6, 3, 5, 5, 2, 4, 1, ...</td>\n",
       "    </tr>\n",
       "    <tr>\n",
       "      <th>0</th>\n",
       "      <td>339051574.0</td>\n",
       "      <td>24.0</td>\n",
       "      <td>0</td>\n",
       "      <td>246459.406250</td>\n",
       "      <td>0.602073</td>\n",
       "      <td>5</td>\n",
       "      <td>[[913.3192, -0.058137868, -0.05917865, -50.504...</td>\n",
       "      <td>[0, 1, 2, 0, 1, 2, 1, 0, 2, 2, 0, 0]</td>\n",
       "    </tr>\n",
       "    <tr>\n",
       "      <th>0</th>\n",
       "      <td>348484681.0</td>\n",
       "      <td>27.0</td>\n",
       "      <td>0</td>\n",
       "      <td>246642.187500</td>\n",
       "      <td>0.672969</td>\n",
       "      <td>5</td>\n",
       "      <td>[[39615.82, 0.0284493, 0.037747737, -0.7471466...</td>\n",
       "      <td>[3, 1, 4, 2, 4, 1, 3, 1, 1]</td>\n",
       "    </tr>\n",
       "    <tr>\n",
       "      <th>0</th>\n",
       "      <td>352235479.0</td>\n",
       "      <td>22.0</td>\n",
       "      <td>1</td>\n",
       "      <td>246691.687500</td>\n",
       "      <td>0.999337</td>\n",
       "      <td>5</td>\n",
       "      <td>[[11912.633, -0.6259036, 0.62630117, -0.889877...</td>\n",
       "      <td>[3, 0, 0, 1, 0, 0, 1, 2, 1, 3, 3, 1, 0]</td>\n",
       "    </tr>\n",
       "    <tr>\n",
       "      <th>0</th>\n",
       "      <td>344417322.0</td>\n",
       "      <td>27.0</td>\n",
       "      <td>0</td>\n",
       "      <td>247678.546875</td>\n",
       "      <td>-1.475972</td>\n",
       "      <td>5</td>\n",
       "      <td>[[2061.7432, -0.035436448, 0.053267807, -0.072...</td>\n",
       "      <td>[1, 0, 1, 1, 0, 2, 3, 0, 0, 0, 5, 1, 1, 0, 4, ...</td>\n",
       "    </tr>\n",
       "    <tr>\n",
       "      <th>0</th>\n",
       "      <td>339068381.0</td>\n",
       "      <td>25.0</td>\n",
       "      <td>1</td>\n",
       "      <td>247420.625000</td>\n",
       "      <td>-1.227639</td>\n",
       "      <td>5</td>\n",
       "      <td>[[9922.573, -0.0055232537, -0.008247032, -0.04...</td>\n",
       "      <td>[1, 2, 0, 3, 0, 1, 0, 0, 3, 0, 1, 0, 0, 1, 1, ...</td>\n",
       "    </tr>\n",
       "    <tr>\n",
       "      <th>0</th>\n",
       "      <td>346824777.0</td>\n",
       "      <td>17.0</td>\n",
       "      <td>0</td>\n",
       "      <td>247043.734375</td>\n",
       "      <td>-1.119318</td>\n",
       "      <td>5</td>\n",
       "      <td>[[8137.679, 0.012484246, 0.025995567, -0.62930...</td>\n",
       "      <td>[2, 4, 3, 0, 3, 0, 1, 2, 3, 0, 0, 5, 0, 6, 0, ...</td>\n",
       "    </tr>\n",
       "    <tr>\n",
       "      <th>0</th>\n",
       "      <td>374670376.0</td>\n",
       "      <td>26.0</td>\n",
       "      <td>0</td>\n",
       "      <td>247420.562500</td>\n",
       "      <td>-1.037386</td>\n",
       "      <td>5</td>\n",
       "      <td>[[852.4481, 0.14999218, -0.1498933, 42.924988,...</td>\n",
       "      <td>[0, 2, 2, 2, 2, 3, 2, 3, 0, 2]</td>\n",
       "    </tr>\n",
       "    <tr>\n",
       "      <th>0</th>\n",
       "      <td>346834183.0</td>\n",
       "      <td>30.0</td>\n",
       "      <td>0</td>\n",
       "      <td>247240.468750</td>\n",
       "      <td>-0.856076</td>\n",
       "      <td>5</td>\n",
       "      <td>[[12643.995, 0.06973371, 0.07208783, -0.135505...</td>\n",
       "      <td>[3, 4, 2, 2, 1, 3, 2, 1, 0, 4]</td>\n",
       "    </tr>\n",
       "    <tr>\n",
       "      <th>0</th>\n",
       "      <td>346593800.0</td>\n",
       "      <td>29.0</td>\n",
       "      <td>0</td>\n",
       "      <td>247208.734375</td>\n",
       "      <td>-0.725128</td>\n",
       "      <td>5</td>\n",
       "      <td>[[8797.715, 0.06456789, 0.058267117, 0.3497331...</td>\n",
       "      <td>[3, 1, 0, 0, 4, 1, 2, 3, 4, 2, 0, 2]</td>\n",
       "    </tr>\n",
       "    <tr>\n",
       "      <th>0</th>\n",
       "      <td>391577333.0</td>\n",
       "      <td>27.0</td>\n",
       "      <td>0</td>\n",
       "      <td>247158.703125</td>\n",
       "      <td>-0.275336</td>\n",
       "      <td>5</td>\n",
       "      <td>[[579.16943, -0.10053848, -0.11821821, -61.895...</td>\n",
       "      <td>[0, 2, 1, 2, 2, 1, 0, 2, 2, 2, 2, 1]</td>\n",
       "    </tr>\n",
       "    <tr>\n",
       "      <th>0</th>\n",
       "      <td>352261732.0</td>\n",
       "      <td>28.0</td>\n",
       "      <td>0</td>\n",
       "      <td>247835.578125</td>\n",
       "      <td>-0.017524</td>\n",
       "      <td>5</td>\n",
       "      <td>[[11633.278, -0.0012382008, 0.010661398, -0.01...</td>\n",
       "      <td>[1, 1, 1, 2, 3, 1, 1, 1, 4, 3]</td>\n",
       "    </tr>\n",
       "    <tr>\n",
       "      <th>0</th>\n",
       "      <td>342600093.0</td>\n",
       "      <td>13.0</td>\n",
       "      <td>0</td>\n",
       "      <td>247668.562500</td>\n",
       "      <td>0.218537</td>\n",
       "      <td>5</td>\n",
       "      <td>[[11757.001, -0.0297619, -0.010975395, -0.0211...</td>\n",
       "      <td>[1, 2, 1, 1, 1, 2, 1, 0]</td>\n",
       "    </tr>\n",
       "    <tr>\n",
       "      <th>0</th>\n",
       "      <td>347860710.0</td>\n",
       "      <td>27.0</td>\n",
       "      <td>0</td>\n",
       "      <td>247530.218750</td>\n",
       "      <td>0.840186</td>\n",
       "      <td>5</td>\n",
       "      <td>[[7534.2437, 0.7748758, -0.77518594, 1.2404771...</td>\n",
       "      <td>[3, 1, 0, 1, 1, 1, 1, 0, 0, 2, 1, 0, 1, 1]</td>\n",
       "    </tr>\n",
       "    <tr>\n",
       "      <th>0</th>\n",
       "      <td>356221247.0</td>\n",
       "      <td>18.0</td>\n",
       "      <td>0</td>\n",
       "      <td>247314.078125</td>\n",
       "      <td>1.142451</td>\n",
       "      <td>5</td>\n",
       "      <td>[[1340.8899, -0.031253267, -0.03013558, -0.550...</td>\n",
       "      <td>[0, 1, 0, 1, 0, 0, 0, 0, 0, 3, 1, 2, 4, 0, 0, 0]</td>\n",
       "    </tr>\n",
       "    <tr>\n",
       "      <th>0</th>\n",
       "      <td>339065249.0</td>\n",
       "      <td>18.0</td>\n",
       "      <td>0</td>\n",
       "      <td>248582.156250</td>\n",
       "      <td>-0.858097</td>\n",
       "      <td>5</td>\n",
       "      <td>[[5293.8174, 0.39434353, 0.40264517, 0.0913965...</td>\n",
       "      <td>[2, 4, 1, 4, 3, 3, 1, 1, 4, 1, 1, 0, 3, 1, 1, ...</td>\n",
       "    </tr>\n",
       "    <tr>\n",
       "      <th>0</th>\n",
       "      <td>346834002.0</td>\n",
       "      <td>2.0</td>\n",
       "      <td>2</td>\n",
       "      <td>248897.843750</td>\n",
       "      <td>-0.853367</td>\n",
       "      <td>5</td>\n",
       "      <td>[[1527.4862, 7.242275, 7.2445836, -7.824047, 6...</td>\n",
       "      <td>[0, 1, 1, 1, 3, 1, 1, 0, 1, 1, 0, 0, 1, 1, 1, ...</td>\n",
       "    </tr>\n",
       "    <tr>\n",
       "      <th>0</th>\n",
       "      <td>352239269.0</td>\n",
       "      <td>18.0</td>\n",
       "      <td>0</td>\n",
       "      <td>248418.750000</td>\n",
       "      <td>0.152215</td>\n",
       "      <td>5</td>\n",
       "      <td>[[5505.8955, -0.02496417, 0.01835485, -0.10429...</td>\n",
       "      <td>[1, 0, 1, 1, 2, 2, 0, 1, 1, 0, 1, 1, 3, 1, 4]</td>\n",
       "    </tr>\n",
       "    <tr>\n",
       "      <th>0</th>\n",
       "      <td>374673520.0</td>\n",
       "      <td>23.0</td>\n",
       "      <td>0</td>\n",
       "      <td>248832.687500</td>\n",
       "      <td>0.264444</td>\n",
       "      <td>5</td>\n",
       "      <td>[[22204.543, -0.010523666, -0.0042195274, 0.00...</td>\n",
       "      <td>[3, 1, 1, 0, 0, 1, 0, 0, 1, 0, 2, 1, 0, 2, 1, ...</td>\n",
       "    </tr>\n",
       "    <tr>\n",
       "      <th>0</th>\n",
       "      <td>345367054.0</td>\n",
       "      <td>35.0</td>\n",
       "      <td>1</td>\n",
       "      <td>248985.140625</td>\n",
       "      <td>0.259804</td>\n",
       "      <td>5</td>\n",
       "      <td>[[627.95905, -0.28223234, 0.28496, -2.4924736,...</td>\n",
       "      <td>[3, 0, 0, 3, 1, 1, 1, 0, 0, 0, 0, 2]</td>\n",
       "    </tr>\n",
       "    <tr>\n",
       "      <th>0</th>\n",
       "      <td>342599279.0</td>\n",
       "      <td>28.0</td>\n",
       "      <td>0</td>\n",
       "      <td>248971.156250</td>\n",
       "      <td>0.392221</td>\n",
       "      <td>5</td>\n",
       "      <td>[[8158.14, -0.72983617, 0.73381025, 1.7758551,...</td>\n",
       "      <td>[2, 3, 1, 3, 0, 2, 1]</td>\n",
       "    </tr>\n",
       "    <tr>\n",
       "      <th>0</th>\n",
       "      <td>351841355.0</td>\n",
       "      <td>26.0</td>\n",
       "      <td>0</td>\n",
       "      <td>248554.546875</td>\n",
       "      <td>1.292527</td>\n",
       "      <td>5</td>\n",
       "      <td>[[3249.602, 0.042588387, 0.037913803, 0.137207...</td>\n",
       "      <td>[1, 2, 2, 4, 1, 0, 1, 1, 0, 1, 1, 1, 1, 0, 1, ...</td>\n",
       "    </tr>\n",
       "    <tr>\n",
       "      <th>0</th>\n",
       "      <td>365609158.0</td>\n",
       "      <td>31.0</td>\n",
       "      <td>0</td>\n",
       "      <td>248356.828125</td>\n",
       "      <td>1.486999</td>\n",
       "      <td>5</td>\n",
       "      <td>[[7147.983, 0.008933232, 0.016391283, 0.023956...</td>\n",
       "      <td>[1, 0, 0, 0, 0, 3, 0, 1, 1, 2, 2, 3, 0, 1, 1, ...</td>\n",
       "    </tr>\n",
       "    <tr>\n",
       "      <th>0</th>\n",
       "      <td>383865617.0</td>\n",
       "      <td>21.0</td>\n",
       "      <td>0</td>\n",
       "      <td>249684.515625</td>\n",
       "      <td>-2.348752</td>\n",
       "      <td>5</td>\n",
       "      <td>[[799.89246, -1.8987347, 1.9131953, -18.056877...</td>\n",
       "      <td>[5, 2, 2, 4, 0, 0, 0, 0, 1, 0, 0, 0, 1, 2, 0, 3]</td>\n",
       "    </tr>\n",
       "    <tr>\n",
       "      <th>0</th>\n",
       "      <td>374565932.0</td>\n",
       "      <td>13.0</td>\n",
       "      <td>0</td>\n",
       "      <td>249198.375000</td>\n",
       "      <td>-0.915903</td>\n",
       "      <td>5</td>\n",
       "      <td>[[9446.247, -0.025600182, 0.010808505, -0.0638...</td>\n",
       "      <td>[3, 2, 0, 3, 0, 1, 0, 2, 2, 1]</td>\n",
       "    </tr>\n",
       "    <tr>\n",
       "      <th>0</th>\n",
       "      <td>373627565.0</td>\n",
       "      <td>24.0</td>\n",
       "      <td>0</td>\n",
       "      <td>249393.843750</td>\n",
       "      <td>-0.522138</td>\n",
       "      <td>5</td>\n",
       "      <td>[[1018.17664, -0.35721692, 0.355519, -5.218151...</td>\n",
       "      <td>[0, 0, 1, 2, 1, 5, 1, 1, 1, 3, 1, 1, 0, 1, 4, ...</td>\n",
       "    </tr>\n",
       "    <tr>\n",
       "      <th>0</th>\n",
       "      <td>365602112.0</td>\n",
       "      <td>14.0</td>\n",
       "      <td>0</td>\n",
       "      <td>249899.062500</td>\n",
       "      <td>-0.385258</td>\n",
       "      <td>5</td>\n",
       "      <td>[[3294.6436, 0.016717782, -0.031974018, -0.023...</td>\n",
       "      <td>[1, 1, 1, 1, 3, 2, 3, 1, 1, 1]</td>\n",
       "    </tr>\n",
       "    <tr>\n",
       "      <th>0</th>\n",
       "      <td>348603181.0</td>\n",
       "      <td>16.0</td>\n",
       "      <td>0</td>\n",
       "      <td>249439.546875</td>\n",
       "      <td>0.226605</td>\n",
       "      <td>5</td>\n",
       "      <td>[[55554.164, 0.124713756, -0.13044499, 0.04972...</td>\n",
       "      <td>[3, 4, 1, 1, 4, 1, 0, 0, 2, 0, 0, 3, 2, 0]</td>\n",
       "    </tr>\n",
       "    <tr>\n",
       "      <th>0</th>\n",
       "      <td>345356333.0</td>\n",
       "      <td>27.0</td>\n",
       "      <td>0</td>\n",
       "      <td>249208.328125</td>\n",
       "      <td>0.801978</td>\n",
       "      <td>5</td>\n",
       "      <td>[[6174.861, -0.017392952, 0.016885813, 0.08017...</td>\n",
       "      <td>[1, 0, 1, 0, 0, 1, 0, 2, 3, 1, 1, 1, 1, 0, 0, ...</td>\n",
       "    </tr>\n",
       "  </tbody>\n",
       "</table>\n",
       "<p>101767 rows × 8 columns</p>\n",
       "</div>"
      ],
      "text/plain": [
       "        eventnb  actmu  jet_index         jet_pt   jet_eta  \\\n",
       "0   374672523.0   23.0          6   20455.300781 -2.439840   \n",
       "0   335801386.0   21.0          7   20527.683594 -2.401576   \n",
       "0   339020865.0   15.0          5   20662.048828 -2.407567   \n",
       "0   339045870.0   31.0          6   20225.113281 -2.493184   \n",
       "0   340216248.0   28.0          5   20164.908203 -2.408214   \n",
       "0   340232862.0   15.0          9   20391.765625 -2.490672   \n",
       "0   346823319.0   19.0          4   20660.621094 -2.438652   \n",
       "0   346824616.0   21.0          8   20760.292969 -2.423998   \n",
       "0   346826000.0   40.0          7   20236.369141 -2.422040   \n",
       "0   346837590.0   25.0          6   20766.984375 -2.492789   \n",
       "0   348486248.0   18.0          8   20854.851562 -2.492242   \n",
       "0   348602536.0   22.0          5   20928.578125 -2.438547   \n",
       "0   348847858.0   15.0          7   20091.197266 -2.450132   \n",
       "0   356221767.0   29.0         11   20600.712891 -2.443961   \n",
       "0   364038077.0   34.0          5   20650.347656 -2.442466   \n",
       "0   373196355.0   20.0          4   20883.431641 -2.332073   \n",
       "0   373599065.0   34.0          6   20654.187500 -2.358651   \n",
       "0   373626554.0   22.0          6   20180.595703 -2.397094   \n",
       "0   374670715.0   19.0          5   20175.283203 -2.316388   \n",
       "0   338994601.0   21.0          7   20341.533203 -2.364448   \n",
       "0   339020875.0   15.0          2   20435.115234 -2.319986   \n",
       "0   340232543.0   22.0          7   20594.636719 -2.377162   \n",
       "0   346820545.0   22.0          6   20696.855469 -2.343964   \n",
       "0   346825460.0   22.0          6   20723.166016 -2.300905   \n",
       "0   348602473.0   24.0          6   20541.326172 -2.384883   \n",
       "0   348604350.0   26.0          9   20633.238281 -2.379793   \n",
       "0   348673926.0   33.0          9   20419.115234 -2.397425   \n",
       "0   348675145.0   15.0          5   20791.771484 -2.343113   \n",
       "0   347860939.0   34.0         11   20154.310547 -2.313939   \n",
       "0   347964286.0   18.0          4   20536.201172 -2.365870   \n",
       "..          ...    ...        ...            ...       ...   \n",
       "0   338994004.0    0.0          1  246513.546875  0.389653   \n",
       "0   361489345.0   20.0          0  246074.031250  0.383529   \n",
       "0   339051574.0   24.0          0  246459.406250  0.602073   \n",
       "0   348484681.0   27.0          0  246642.187500  0.672969   \n",
       "0   352235479.0   22.0          1  246691.687500  0.999337   \n",
       "0   344417322.0   27.0          0  247678.546875 -1.475972   \n",
       "0   339068381.0   25.0          1  247420.625000 -1.227639   \n",
       "0   346824777.0   17.0          0  247043.734375 -1.119318   \n",
       "0   374670376.0   26.0          0  247420.562500 -1.037386   \n",
       "0   346834183.0   30.0          0  247240.468750 -0.856076   \n",
       "0   346593800.0   29.0          0  247208.734375 -0.725128   \n",
       "0   391577333.0   27.0          0  247158.703125 -0.275336   \n",
       "0   352261732.0   28.0          0  247835.578125 -0.017524   \n",
       "0   342600093.0   13.0          0  247668.562500  0.218537   \n",
       "0   347860710.0   27.0          0  247530.218750  0.840186   \n",
       "0   356221247.0   18.0          0  247314.078125  1.142451   \n",
       "0   339065249.0   18.0          0  248582.156250 -0.858097   \n",
       "0   346834002.0    2.0          2  248897.843750 -0.853367   \n",
       "0   352239269.0   18.0          0  248418.750000  0.152215   \n",
       "0   374673520.0   23.0          0  248832.687500  0.264444   \n",
       "0   345367054.0   35.0          1  248985.140625  0.259804   \n",
       "0   342599279.0   28.0          0  248971.156250  0.392221   \n",
       "0   351841355.0   26.0          0  248554.546875  1.292527   \n",
       "0   365609158.0   31.0          0  248356.828125  1.486999   \n",
       "0   383865617.0   21.0          0  249684.515625 -2.348752   \n",
       "0   374565932.0   13.0          0  249198.375000 -0.915903   \n",
       "0   373627565.0   24.0          0  249393.843750 -0.522138   \n",
       "0   365602112.0   14.0          0  249899.062500 -0.385258   \n",
       "0   348603181.0   16.0          0  249439.546875  0.226605   \n",
       "0   345356333.0   27.0          0  249208.328125  0.801978   \n",
       "\n",
       "    jet_DoubleHadLabel                                      node_features  \\\n",
       "0                    5  [[537.67224, -0.0868947, -0.08575548, 29.73025...   \n",
       "0                    5  [[2849.4578, -19.322102, 19.307457, 8.109674, ...   \n",
       "0                    5  [[969.93463, -0.1922895, -0.17928883, 35.23100...   \n",
       "0                    5  [[1748.8486, -0.43932858, 0.44665313, 0.006834...   \n",
       "0                    5  [[1721.0725, 0.06478406, 0.07638735, 1.6631126...   \n",
       "0                    5  [[551.7835, -0.023913207, -0.026317673, 37.521...   \n",
       "0                    5  [[3257.5845, 0.09365163, -0.07722314, 0.592998...   \n",
       "0                    5  [[11204.255, 0.0103100445, 0.012716724, -1.231...   \n",
       "0                    5  [[1092.9368, 0.30744937, -0.31235176, -3.33814...   \n",
       "0                    5  [[545.87366, 0.06004437, 0.05866018, -41.98510...   \n",
       "0                    5  [[4087.7253, -0.035784718, 0.03767604, -0.7371...   \n",
       "0                    5  [[578.38605, -0.7601497, -0.7569912, 0.1122627...   \n",
       "0                    5  [[1265.9548, 0.1369715, 0.14820822, -1.8022842...   \n",
       "0                    5  [[2347.2432, 0.1214471, 0.118902296, -1.102134...   \n",
       "0                    5  [[858.7478, 0.08798836, -0.08740018, 43.05741,...   \n",
       "0                    5  [[542.91974, -0.12379459, 0.112446785, -14.156...   \n",
       "0                    5  [[628.32416, -1.0000422, 1.0039151, -288.1806,...   \n",
       "0                    5  [[683.4449, -0.18719004, 0.18181519, -0.769994...   \n",
       "0                    5  [[1986.1603, -2.2237287, -2.2260091, 126.09444...   \n",
       "0                    5  [[5121.119, -0.0069681834, -0.0008485802, -0.1...   \n",
       "0                    5  [[5169.3584, -0.9276991, 0.9295273, 3.2696037,...   \n",
       "0                    5  [[1269.4448, 0.11918973, 0.10785483, 0.6652536...   \n",
       "0                    5  [[529.8091, -6.4493985, 6.4626465, -52.10557, ...   \n",
       "0                    5  [[1110.9579, 0.33424458, 0.3335218, 3.1094704,...   \n",
       "0                    5  [[2242.6519, 0.13633278, 0.14553231, 1.5938816...   \n",
       "0                    5  [[620.9065, -0.16058755, 0.17105147, -107.7411...   \n",
       "0                    5  [[1125.0613, -0.264412, -0.2614739, -0.477808,...   \n",
       "0                    5  [[3807.1665, -0.017781137, -0.037475612, -0.10...   \n",
       "0                    5  [[1154.1332, -0.045238014, -0.03653431, 41.168...   \n",
       "0                    5  [[599.8405, 0.048127435, -0.04738565, -0.49900...   \n",
       "..                 ...                                                ...   \n",
       "0                    5  [[19964.674, 0.0010318228, -0.004395318, -0.03...   \n",
       "0                    5  [[1780.5284, 0.10102411, -0.10291753, -0.02292...   \n",
       "0                    5  [[913.3192, -0.058137868, -0.05917865, -50.504...   \n",
       "0                    5  [[39615.82, 0.0284493, 0.037747737, -0.7471466...   \n",
       "0                    5  [[11912.633, -0.6259036, 0.62630117, -0.889877...   \n",
       "0                    5  [[2061.7432, -0.035436448, 0.053267807, -0.072...   \n",
       "0                    5  [[9922.573, -0.0055232537, -0.008247032, -0.04...   \n",
       "0                    5  [[8137.679, 0.012484246, 0.025995567, -0.62930...   \n",
       "0                    5  [[852.4481, 0.14999218, -0.1498933, 42.924988,...   \n",
       "0                    5  [[12643.995, 0.06973371, 0.07208783, -0.135505...   \n",
       "0                    5  [[8797.715, 0.06456789, 0.058267117, 0.3497331...   \n",
       "0                    5  [[579.16943, -0.10053848, -0.11821821, -61.895...   \n",
       "0                    5  [[11633.278, -0.0012382008, 0.010661398, -0.01...   \n",
       "0                    5  [[11757.001, -0.0297619, -0.010975395, -0.0211...   \n",
       "0                    5  [[7534.2437, 0.7748758, -0.77518594, 1.2404771...   \n",
       "0                    5  [[1340.8899, -0.031253267, -0.03013558, -0.550...   \n",
       "0                    5  [[5293.8174, 0.39434353, 0.40264517, 0.0913965...   \n",
       "0                    5  [[1527.4862, 7.242275, 7.2445836, -7.824047, 6...   \n",
       "0                    5  [[5505.8955, -0.02496417, 0.01835485, -0.10429...   \n",
       "0                    5  [[22204.543, -0.010523666, -0.0042195274, 0.00...   \n",
       "0                    5  [[627.95905, -0.28223234, 0.28496, -2.4924736,...   \n",
       "0                    5  [[8158.14, -0.72983617, 0.73381025, 1.7758551,...   \n",
       "0                    5  [[3249.602, 0.042588387, 0.037913803, 0.137207...   \n",
       "0                    5  [[7147.983, 0.008933232, 0.016391283, 0.023956...   \n",
       "0                    5  [[799.89246, -1.8987347, 1.9131953, -18.056877...   \n",
       "0                    5  [[9446.247, -0.025600182, 0.010808505, -0.0638...   \n",
       "0                    5  [[1018.17664, -0.35721692, 0.355519, -5.218151...   \n",
       "0                    5  [[3294.6436, 0.016717782, -0.031974018, -0.023...   \n",
       "0                    5  [[55554.164, 0.124713756, -0.13044499, 0.04972...   \n",
       "0                    5  [[6174.861, -0.017392952, 0.016885813, 0.08017...   \n",
       "\n",
       "                                          node_labels  \n",
       "0                            [0, 0, 0, 0, 2, 0, 0, 0]  \n",
       "0                                  [0, 3, 0, 3, 2, 0]  \n",
       "0                            [0, 0, 2, 1, 0, 3, 0, 0]  \n",
       "0                                  [3, 0, 3, 0, 2, 0]  \n",
       "0                               [2, 2, 2, 2, 0, 2, 0]  \n",
       "0                                  [0, 0, 0, 1, 1, 1]  \n",
       "0                               [1, 2, 0, 0, 0, 0, 0]  \n",
       "0                                           [2, 0, 2]  \n",
       "0   [0, 0, 2, 0, 0, 3, 1, 1, 1, 1, 4, 0, 3, 0, 2, ...  \n",
       "0                            [0, 0, 3, 2, 4, 0, 0, 0]  \n",
       "0                               [3, 0, 2, 4, 2, 2, 0]  \n",
       "0                                     [0, 2, 2, 0, 0]  \n",
       "0                                           [2, 0, 1]  \n",
       "0                            [2, 2, 3, 0, 3, 0, 0, 0]  \n",
       "0                [0, 0, 0, 0, 2, 0, 0, 3, 3, 0, 0, 3]  \n",
       "0                [0, 3, 2, 2, 0, 0, 2, 3, 1, 0, 0, 0]  \n",
       "0             [0, 0, 0, 1, 0, 0, 3, 0, 0, 0, 0, 3, 2]  \n",
       "0                      [2, 2, 1, 0, 0, 0, 3, 3, 2, 2]  \n",
       "0                         [0, 0, 2, 0, 1, 1, 0, 0, 0]  \n",
       "0                                     [3, 2, 3, 2, 2]  \n",
       "0                                     [0, 2, 1, 2, 0]  \n",
       "0                [3, 3, 0, 3, 0, 0, 3, 0, 0, 1, 0, 2]  \n",
       "0                                  [0, 3, 0, 1, 2, 1]  \n",
       "0                [3, 0, 0, 0, 2, 0, 0, 0, 0, 1, 0, 0]  \n",
       "0                               [2, 0, 1, 3, 2, 4, 2]  \n",
       "0                      [0, 0, 3, 1, 3, 0, 0, 2, 1, 0]  \n",
       "0                         [3, 3, 0, 3, 2, 3, 0, 3, 3]  \n",
       "0                   [1, 0, 2, 0, 4, 0, 0, 3, 3, 0, 0]  \n",
       "0   [0, 0, 2, 0, 5, 4, 0, 0, 0, 0, 3, 0, 0, 0, 0, ...  \n",
       "0                      [2, 2, 2, 0, 0, 0, 0, 0, 3, 0]  \n",
       "..                                                ...  \n",
       "0                   [2, 1, 2, 2, 2, 1, 2, 2, 1, 2, 2]  \n",
       "0   [1, 3, 2, 1, 4, 0, 1, 1, 6, 3, 5, 5, 2, 4, 1, ...  \n",
       "0                [0, 1, 2, 0, 1, 2, 1, 0, 2, 2, 0, 0]  \n",
       "0                         [3, 1, 4, 2, 4, 1, 3, 1, 1]  \n",
       "0             [3, 0, 0, 1, 0, 0, 1, 2, 1, 3, 3, 1, 0]  \n",
       "0   [1, 0, 1, 1, 0, 2, 3, 0, 0, 0, 5, 1, 1, 0, 4, ...  \n",
       "0   [1, 2, 0, 3, 0, 1, 0, 0, 3, 0, 1, 0, 0, 1, 1, ...  \n",
       "0   [2, 4, 3, 0, 3, 0, 1, 2, 3, 0, 0, 5, 0, 6, 0, ...  \n",
       "0                      [0, 2, 2, 2, 2, 3, 2, 3, 0, 2]  \n",
       "0                      [3, 4, 2, 2, 1, 3, 2, 1, 0, 4]  \n",
       "0                [3, 1, 0, 0, 4, 1, 2, 3, 4, 2, 0, 2]  \n",
       "0                [0, 2, 1, 2, 2, 1, 0, 2, 2, 2, 2, 1]  \n",
       "0                      [1, 1, 1, 2, 3, 1, 1, 1, 4, 3]  \n",
       "0                            [1, 2, 1, 1, 1, 2, 1, 0]  \n",
       "0          [3, 1, 0, 1, 1, 1, 1, 0, 0, 2, 1, 0, 1, 1]  \n",
       "0    [0, 1, 0, 1, 0, 0, 0, 0, 0, 3, 1, 2, 4, 0, 0, 0]  \n",
       "0   [2, 4, 1, 4, 3, 3, 1, 1, 4, 1, 1, 0, 3, 1, 1, ...  \n",
       "0   [0, 1, 1, 1, 3, 1, 1, 0, 1, 1, 0, 0, 1, 1, 1, ...  \n",
       "0       [1, 0, 1, 1, 2, 2, 0, 1, 1, 0, 1, 1, 3, 1, 4]  \n",
       "0   [3, 1, 1, 0, 0, 1, 0, 0, 1, 0, 2, 1, 0, 2, 1, ...  \n",
       "0                [3, 0, 0, 3, 1, 1, 1, 0, 0, 0, 0, 2]  \n",
       "0                               [2, 3, 1, 3, 0, 2, 1]  \n",
       "0   [1, 2, 2, 4, 1, 0, 1, 1, 0, 1, 1, 1, 1, 0, 1, ...  \n",
       "0   [1, 0, 0, 0, 0, 3, 0, 1, 1, 2, 2, 3, 0, 1, 1, ...  \n",
       "0    [5, 2, 2, 4, 0, 0, 0, 0, 1, 0, 0, 0, 1, 2, 0, 3]  \n",
       "0                      [3, 2, 0, 3, 0, 1, 0, 2, 2, 1]  \n",
       "0   [0, 0, 1, 2, 1, 5, 1, 1, 1, 3, 1, 1, 0, 1, 4, ...  \n",
       "0                      [1, 1, 1, 1, 3, 2, 3, 1, 1, 1]  \n",
       "0          [3, 4, 1, 1, 4, 1, 0, 0, 2, 0, 0, 3, 2, 0]  \n",
       "0   [1, 0, 1, 0, 0, 1, 0, 2, 3, 1, 1, 1, 1, 0, 0, ...  \n",
       "\n",
       "[101767 rows x 8 columns]"
      ]
     },
     "execution_count": 6,
     "metadata": {},
     "output_type": "execute_result"
    }
   ],
   "source": [
    "df_i"
   ]
  },
  {
   "cell_type": "code",
   "execution_count": 8,
   "metadata": {},
   "outputs": [],
   "source": [
    "import pickle"
   ]
  },
  {
   "cell_type": "code",
   "execution_count": 19,
   "metadata": {},
   "outputs": [],
   "source": [
    "f = open('testsave.pkl','wb')\n",
    "pickle.dump(glist, f)\n",
    "f.close()"
   ]
  },
  {
   "cell_type": "code",
   "execution_count": 9,
   "metadata": {},
   "outputs": [],
   "source": [
    "f = open(\"testsave.pkl\", \"rb\")\n",
    "glist = pickle.load(f)"
   ]
  },
  {
   "cell_type": "code",
   "execution_count": 10,
   "metadata": {},
   "outputs": [
    {
     "data": {
      "text/plain": [
       "495"
      ]
     },
     "execution_count": 10,
     "metadata": {},
     "output_type": "execute_result"
    }
   ],
   "source": [
    "gc.collect()"
   ]
  },
  {
   "cell_type": "code",
   "execution_count": 6,
   "metadata": {},
   "outputs": [
    {
     "data": {
      "text/plain": [
       "203275"
      ]
     },
     "execution_count": 6,
     "metadata": {},
     "output_type": "execute_result"
    }
   ],
   "source": [
    "len( np.where( graph_df.jet_DoubleHadLabel.values == 0 )[0] )"
   ]
  },
  {
   "cell_type": "code",
   "execution_count": null,
   "metadata": {},
   "outputs": [],
   "source": [
    "graph_df_valid = pd.concat( [pd.read_pickle(x) for x in glob.glob('/Users/jshlomi/Desktop/Datasets/j_3/*')] )"
   ]
  },
  {
   "cell_type": "code",
   "execution_count": 13,
   "metadata": {},
   "outputs": [],
   "source": [
    "ds = JetGraphDataset([graph_df])\n",
    "ds_valid = JetGraphDataset([graph_df_valid])"
   ]
  },
  {
   "cell_type": "code",
   "execution_count": 14,
   "metadata": {},
   "outputs": [],
   "source": [
    "dataset_loader = torch.utils.data.DataLoader(ds,\n",
    "                                             batch_size=3, shuffle=True,collate_fn=create_batch,\n",
    "                                             num_workers=1)\n",
    "\n",
    "dataset_loader_valid = torch.utils.data.DataLoader(ds_valid,\n",
    "                                             batch_size=3, shuffle=False,collate_fn=create_batch,\n",
    "                                             num_workers=1)"
   ]
  },
  {
   "cell_type": "code",
   "execution_count": 508,
   "metadata": {},
   "outputs": [],
   "source": [
    "for x,y in dataset_loader:\n",
    "    break"
   ]
  },
  {
   "cell_type": "code",
   "execution_count": 290,
   "metadata": {},
   "outputs": [
    {
     "data": {
      "text/plain": [
       "tensor([1, 1, 1, 0, 0, 0, 1, 0, 1, 1, 1, 1, 0, 0, 2, 2, 2, 0, 0, 2, 0, 0, 1, 0,\n",
       "        4, 0, 2, 4, 3, 0, 0, 2, 0, 0, 3, 3, 0, 4, 0, 0, 0, 1, 4])"
      ]
     },
     "execution_count": 290,
     "metadata": {},
     "output_type": "execute_result"
    }
   ],
   "source": [
    "y"
   ]
  },
  {
   "cell_type": "code",
   "execution_count": 291,
   "metadata": {},
   "outputs": [
    {
     "data": {
      "text/plain": [
       "3"
      ]
     },
     "execution_count": 291,
     "metadata": {},
     "output_type": "execute_result"
    }
   ],
   "source": [
    "len(x)"
   ]
  },
  {
   "cell_type": "code",
   "execution_count": 205,
   "metadata": {},
   "outputs": [
    {
     "data": {
      "text/plain": [
       "torch.Size([46, 2])"
      ]
     },
     "execution_count": 205,
     "metadata": {},
     "output_type": "execute_result"
    }
   ],
   "source": [
    "x[0].shape"
   ]
  },
  {
   "cell_type": "code",
   "execution_count": 206,
   "metadata": {},
   "outputs": [
    {
     "data": {
      "text/plain": [
       "DGLGraph(num_nodes=46, num_edges=404,\n",
       "         ndata_schemes={}\n",
       "         edata_schemes={})"
      ]
     },
     "execution_count": 206,
     "metadata": {},
     "output_type": "execute_result"
    }
   ],
   "source": [
    "x[1]"
   ]
  },
  {
   "cell_type": "code",
   "execution_count": 207,
   "metadata": {},
   "outputs": [
    {
     "data": {
      "text/plain": [
       "torch.Size([46, 8])"
      ]
     },
     "execution_count": 207,
     "metadata": {},
     "output_type": "execute_result"
    }
   ],
   "source": [
    "x[2].shape"
   ]
  },
  {
   "cell_type": "code",
   "execution_count": 654,
   "metadata": {},
   "outputs": [],
   "source": [
    "import importlib\n",
    "import gnn_model\n",
    "importlib.reload(gnn_model)\n",
    "\n",
    "from gnn_model import *"
   ]
  },
  {
   "cell_type": "code",
   "execution_count": 655,
   "metadata": {},
   "outputs": [],
   "source": [
    "ce_loss = nn.CrossEntropyLoss(reduction='mean')\n",
    "\n",
    "def loss_function(node_class,node_labels):\n",
    "    \n",
    "    batch_s = len(node_class)\n",
    "    \n",
    "    total_loss = ce_loss(node_class,node_labels)\n",
    "    \n",
    "    return total_loss"
   ]
  },
  {
   "cell_type": "code",
   "execution_count": null,
   "metadata": {},
   "outputs": [],
   "source": []
  },
  {
   "cell_type": "code",
   "execution_count": 656,
   "metadata": {},
   "outputs": [],
   "source": [
    "j_gnn = JetNodeClassifier(hidden_size=256,n_classes=9)"
   ]
  },
  {
   "cell_type": "code",
   "execution_count": 657,
   "metadata": {},
   "outputs": [],
   "source": [
    "for x,y in dataset_loader:\n",
    "    break\n",
    "    \n",
    "jet_features = x[0]\n",
    "g = x[1]\n",
    "node_features = x[2]"
   ]
  },
  {
   "cell_type": "code",
   "execution_count": 658,
   "metadata": {},
   "outputs": [],
   "source": [
    "output = j_gnn(jet_features,g,node_features)"
   ]
  },
  {
   "cell_type": "code",
   "execution_count": 659,
   "metadata": {},
   "outputs": [
    {
     "data": {
      "text/plain": [
       "tensor(2.2189, grad_fn=<NllLossBackward>)"
      ]
     },
     "execution_count": 659,
     "metadata": {},
     "output_type": "execute_result"
    }
   ],
   "source": [
    "loss_function(output,y)"
   ]
  },
  {
   "cell_type": "code",
   "execution_count": 641,
   "metadata": {},
   "outputs": [],
   "source": [
    "import fastai\n",
    "from fastai import *\n",
    "from fastai.vision import *"
   ]
  },
  {
   "cell_type": "code",
   "execution_count": 642,
   "metadata": {},
   "outputs": [],
   "source": [
    "db = DataBunch(train_dl=dataset_loader,valid_dl=dataset_loader_valid,collate_fn=create_batch,fix_dl=dataset_loader)"
   ]
  },
  {
   "cell_type": "code",
   "execution_count": 643,
   "metadata": {},
   "outputs": [],
   "source": [
    "learn = Learner(db,j_gnn,loss_func=loss_function)"
   ]
  },
  {
   "cell_type": "code",
   "execution_count": 644,
   "metadata": {},
   "outputs": [
    {
     "data": {
      "text/html": [
       "\n",
       "    <div>\n",
       "        <style>\n",
       "            /* Turns off some styling */\n",
       "            progress {\n",
       "                /* gets rid of default border in Firefox and Opera. */\n",
       "                border: none;\n",
       "                /* Needs to be in here for Safari polyfill so background images work as expected. */\n",
       "                background-size: auto;\n",
       "            }\n",
       "            .progress-bar-interrupted, .progress-bar-interrupted::-webkit-progress-bar {\n",
       "                background: #F44336;\n",
       "            }\n",
       "        </style>\n",
       "      <progress value='6' class='' max='10', style='width:300px; height:20px; vertical-align: middle;'></progress>\n",
       "      60.00% [6/10 06:43<04:29]\n",
       "    </div>\n",
       "    \n",
       "<table border=\"1\" class=\"dataframe\">\n",
       "  <thead>\n",
       "    <tr style=\"text-align: left;\">\n",
       "      <th>epoch</th>\n",
       "      <th>train_loss</th>\n",
       "      <th>valid_loss</th>\n",
       "      <th>time</th>\n",
       "    </tr>\n",
       "  </thead>\n",
       "  <tbody>\n",
       "    <tr>\n",
       "      <td>0</td>\n",
       "      <td>0.860711</td>\n",
       "      <td>6.012752</td>\n",
       "      <td>01:06</td>\n",
       "    </tr>\n",
       "    <tr>\n",
       "      <td>1</td>\n",
       "      <td>0.770433</td>\n",
       "      <td>1.360710</td>\n",
       "      <td>01:08</td>\n",
       "    </tr>\n",
       "    <tr>\n",
       "      <td>2</td>\n",
       "      <td>0.756532</td>\n",
       "      <td>1.230393</td>\n",
       "      <td>01:06</td>\n",
       "    </tr>\n",
       "    <tr>\n",
       "      <td>3</td>\n",
       "      <td>0.707398</td>\n",
       "      <td>0.987400</td>\n",
       "      <td>01:14</td>\n",
       "    </tr>\n",
       "    <tr>\n",
       "      <td>4</td>\n",
       "      <td>0.738092</td>\n",
       "      <td>1.055840</td>\n",
       "      <td>01:03</td>\n",
       "    </tr>\n",
       "    <tr>\n",
       "      <td>5</td>\n",
       "      <td>0.705416</td>\n",
       "      <td>1.112777</td>\n",
       "      <td>01:03</td>\n",
       "    </tr>\n",
       "  </tbody>\n",
       "</table><p>\n",
       "\n",
       "    <div>\n",
       "        <style>\n",
       "            /* Turns off some styling */\n",
       "            progress {\n",
       "                /* gets rid of default border in Firefox and Opera. */\n",
       "                border: none;\n",
       "                /* Needs to be in here for Safari polyfill so background images work as expected. */\n",
       "                background-size: auto;\n",
       "            }\n",
       "            .progress-bar-interrupted, .progress-bar-interrupted::-webkit-progress-bar {\n",
       "                background: #F44336;\n",
       "            }\n",
       "        </style>\n",
       "      <progress value='0' class='progress-bar-interrupted' max='666', style='width:300px; height:20px; vertical-align: middle;'></progress>\n",
       "      Interrupted\n",
       "    </div>\n",
       "    "
      ],
      "text/plain": [
       "<IPython.core.display.HTML object>"
      ]
     },
     "metadata": {},
     "output_type": "display_data"
    },
    {
     "name": "stderr",
     "output_type": "stream",
     "text": [
      "Traceback (most recent call last):\n",
      "  File \"/anaconda3/lib/python3.7/multiprocessing/queues.py\", line 242, in _feed\n",
      "    send_bytes(obj)\n",
      "  File \"/anaconda3/lib/python3.7/multiprocessing/connection.py\", line 200, in send_bytes\n",
      "    self._send_bytes(m[offset:offset + size])\n",
      "  File \"/anaconda3/lib/python3.7/multiprocessing/connection.py\", line 404, in _send_bytes\n",
      "    self._send(header + buf)\n",
      "  File \"/anaconda3/lib/python3.7/multiprocessing/connection.py\", line 368, in _send\n",
      "    n = write(self._handle, buf)\n",
      "BrokenPipeError: [Errno 32] Broken pipe\n"
     ]
    },
    {
     "ename": "KeyboardInterrupt",
     "evalue": "",
     "output_type": "error",
     "traceback": [
      "\u001b[0;31m---------------------------------------------------------------------------\u001b[0m",
      "\u001b[0;31mKeyboardInterrupt\u001b[0m                         Traceback (most recent call last)",
      "\u001b[0;32m<ipython-input-644-7a6b542dd4d0>\u001b[0m in \u001b[0;36m<module>\u001b[0;34m\u001b[0m\n\u001b[0;32m----> 1\u001b[0;31m \u001b[0mlearn\u001b[0m\u001b[0;34m.\u001b[0m\u001b[0mfit\u001b[0m\u001b[0;34m(\u001b[0m\u001b[0;36m10\u001b[0m\u001b[0;34m,\u001b[0m\u001b[0mlr\u001b[0m\u001b[0;34m=\u001b[0m\u001b[0;36m1e-03\u001b[0m\u001b[0;34m)\u001b[0m\u001b[0;34m\u001b[0m\u001b[0;34m\u001b[0m\u001b[0m\n\u001b[0m",
      "\u001b[0;32m/anaconda3/lib/python3.7/site-packages/fastai/basic_train.py\u001b[0m in \u001b[0;36mfit\u001b[0;34m(self, epochs, lr, wd, callbacks)\u001b[0m\n\u001b[1;32m    197\u001b[0m         \u001b[0mcallbacks\u001b[0m \u001b[0;34m=\u001b[0m \u001b[0;34m[\u001b[0m\u001b[0mcb\u001b[0m\u001b[0;34m(\u001b[0m\u001b[0mself\u001b[0m\u001b[0;34m)\u001b[0m \u001b[0;32mfor\u001b[0m \u001b[0mcb\u001b[0m \u001b[0;32min\u001b[0m \u001b[0mself\u001b[0m\u001b[0;34m.\u001b[0m\u001b[0mcallback_fns\u001b[0m \u001b[0;34m+\u001b[0m \u001b[0mlistify\u001b[0m\u001b[0;34m(\u001b[0m\u001b[0mdefaults\u001b[0m\u001b[0;34m.\u001b[0m\u001b[0mextra_callback_fns\u001b[0m\u001b[0;34m)\u001b[0m\u001b[0;34m]\u001b[0m \u001b[0;34m+\u001b[0m \u001b[0mlistify\u001b[0m\u001b[0;34m(\u001b[0m\u001b[0mcallbacks\u001b[0m\u001b[0;34m)\u001b[0m\u001b[0;34m\u001b[0m\u001b[0;34m\u001b[0m\u001b[0m\n\u001b[1;32m    198\u001b[0m         \u001b[0;32mif\u001b[0m \u001b[0mdefaults\u001b[0m\u001b[0;34m.\u001b[0m\u001b[0mextra_callbacks\u001b[0m \u001b[0;32mis\u001b[0m \u001b[0;32mnot\u001b[0m \u001b[0;32mNone\u001b[0m\u001b[0;34m:\u001b[0m \u001b[0mcallbacks\u001b[0m \u001b[0;34m+=\u001b[0m \u001b[0mdefaults\u001b[0m\u001b[0;34m.\u001b[0m\u001b[0mextra_callbacks\u001b[0m\u001b[0;34m\u001b[0m\u001b[0;34m\u001b[0m\u001b[0m\n\u001b[0;32m--> 199\u001b[0;31m         \u001b[0mfit\u001b[0m\u001b[0;34m(\u001b[0m\u001b[0mepochs\u001b[0m\u001b[0;34m,\u001b[0m \u001b[0mself\u001b[0m\u001b[0;34m,\u001b[0m \u001b[0mmetrics\u001b[0m\u001b[0;34m=\u001b[0m\u001b[0mself\u001b[0m\u001b[0;34m.\u001b[0m\u001b[0mmetrics\u001b[0m\u001b[0;34m,\u001b[0m \u001b[0mcallbacks\u001b[0m\u001b[0;34m=\u001b[0m\u001b[0mself\u001b[0m\u001b[0;34m.\u001b[0m\u001b[0mcallbacks\u001b[0m\u001b[0;34m+\u001b[0m\u001b[0mcallbacks\u001b[0m\u001b[0;34m)\u001b[0m\u001b[0;34m\u001b[0m\u001b[0;34m\u001b[0m\u001b[0m\n\u001b[0m\u001b[1;32m    200\u001b[0m \u001b[0;34m\u001b[0m\u001b[0m\n\u001b[1;32m    201\u001b[0m     \u001b[0;32mdef\u001b[0m \u001b[0mcreate_opt\u001b[0m\u001b[0;34m(\u001b[0m\u001b[0mself\u001b[0m\u001b[0;34m,\u001b[0m \u001b[0mlr\u001b[0m\u001b[0;34m:\u001b[0m\u001b[0mFloats\u001b[0m\u001b[0;34m,\u001b[0m \u001b[0mwd\u001b[0m\u001b[0;34m:\u001b[0m\u001b[0mFloats\u001b[0m\u001b[0;34m=\u001b[0m\u001b[0;36m0.\u001b[0m\u001b[0;34m)\u001b[0m\u001b[0;34m->\u001b[0m\u001b[0;32mNone\u001b[0m\u001b[0;34m:\u001b[0m\u001b[0;34m\u001b[0m\u001b[0;34m\u001b[0m\u001b[0m\n",
      "\u001b[0;32m/anaconda3/lib/python3.7/site-packages/fastai/basic_train.py\u001b[0m in \u001b[0;36mfit\u001b[0;34m(epochs, learn, callbacks, metrics)\u001b[0m\n\u001b[1;32m     99\u001b[0m             \u001b[0;32mfor\u001b[0m \u001b[0mxb\u001b[0m\u001b[0;34m,\u001b[0m\u001b[0myb\u001b[0m \u001b[0;32min\u001b[0m \u001b[0mprogress_bar\u001b[0m\u001b[0;34m(\u001b[0m\u001b[0mlearn\u001b[0m\u001b[0;34m.\u001b[0m\u001b[0mdata\u001b[0m\u001b[0;34m.\u001b[0m\u001b[0mtrain_dl\u001b[0m\u001b[0;34m,\u001b[0m \u001b[0mparent\u001b[0m\u001b[0;34m=\u001b[0m\u001b[0mpbar\u001b[0m\u001b[0;34m)\u001b[0m\u001b[0;34m:\u001b[0m\u001b[0;34m\u001b[0m\u001b[0;34m\u001b[0m\u001b[0m\n\u001b[1;32m    100\u001b[0m                 \u001b[0mxb\u001b[0m\u001b[0;34m,\u001b[0m \u001b[0myb\u001b[0m \u001b[0;34m=\u001b[0m \u001b[0mcb_handler\u001b[0m\u001b[0;34m.\u001b[0m\u001b[0mon_batch_begin\u001b[0m\u001b[0;34m(\u001b[0m\u001b[0mxb\u001b[0m\u001b[0;34m,\u001b[0m \u001b[0myb\u001b[0m\u001b[0;34m)\u001b[0m\u001b[0;34m\u001b[0m\u001b[0;34m\u001b[0m\u001b[0m\n\u001b[0;32m--> 101\u001b[0;31m                 \u001b[0mloss\u001b[0m \u001b[0;34m=\u001b[0m \u001b[0mloss_batch\u001b[0m\u001b[0;34m(\u001b[0m\u001b[0mlearn\u001b[0m\u001b[0;34m.\u001b[0m\u001b[0mmodel\u001b[0m\u001b[0;34m,\u001b[0m \u001b[0mxb\u001b[0m\u001b[0;34m,\u001b[0m \u001b[0myb\u001b[0m\u001b[0;34m,\u001b[0m \u001b[0mlearn\u001b[0m\u001b[0;34m.\u001b[0m\u001b[0mloss_func\u001b[0m\u001b[0;34m,\u001b[0m \u001b[0mlearn\u001b[0m\u001b[0;34m.\u001b[0m\u001b[0mopt\u001b[0m\u001b[0;34m,\u001b[0m \u001b[0mcb_handler\u001b[0m\u001b[0;34m)\u001b[0m\u001b[0;34m\u001b[0m\u001b[0;34m\u001b[0m\u001b[0m\n\u001b[0m\u001b[1;32m    102\u001b[0m                 \u001b[0;32mif\u001b[0m \u001b[0mcb_handler\u001b[0m\u001b[0;34m.\u001b[0m\u001b[0mon_batch_end\u001b[0m\u001b[0;34m(\u001b[0m\u001b[0mloss\u001b[0m\u001b[0;34m)\u001b[0m\u001b[0;34m:\u001b[0m \u001b[0;32mbreak\u001b[0m\u001b[0;34m\u001b[0m\u001b[0;34m\u001b[0m\u001b[0m\n\u001b[1;32m    103\u001b[0m \u001b[0;34m\u001b[0m\u001b[0m\n",
      "\u001b[0;32m/anaconda3/lib/python3.7/site-packages/fastai/basic_train.py\u001b[0m in \u001b[0;36mloss_batch\u001b[0;34m(model, xb, yb, loss_func, opt, cb_handler)\u001b[0m\n\u001b[1;32m     32\u001b[0m     \u001b[0;32mif\u001b[0m \u001b[0mopt\u001b[0m \u001b[0;32mis\u001b[0m \u001b[0;32mnot\u001b[0m \u001b[0;32mNone\u001b[0m\u001b[0;34m:\u001b[0m\u001b[0;34m\u001b[0m\u001b[0;34m\u001b[0m\u001b[0m\n\u001b[1;32m     33\u001b[0m         \u001b[0mloss\u001b[0m\u001b[0;34m,\u001b[0m\u001b[0mskip_bwd\u001b[0m \u001b[0;34m=\u001b[0m \u001b[0mcb_handler\u001b[0m\u001b[0;34m.\u001b[0m\u001b[0mon_backward_begin\u001b[0m\u001b[0;34m(\u001b[0m\u001b[0mloss\u001b[0m\u001b[0;34m)\u001b[0m\u001b[0;34m\u001b[0m\u001b[0;34m\u001b[0m\u001b[0m\n\u001b[0;32m---> 34\u001b[0;31m         \u001b[0;32mif\u001b[0m \u001b[0;32mnot\u001b[0m \u001b[0mskip_bwd\u001b[0m\u001b[0;34m:\u001b[0m                     \u001b[0mloss\u001b[0m\u001b[0;34m.\u001b[0m\u001b[0mbackward\u001b[0m\u001b[0;34m(\u001b[0m\u001b[0;34m)\u001b[0m\u001b[0;34m\u001b[0m\u001b[0;34m\u001b[0m\u001b[0m\n\u001b[0m\u001b[1;32m     35\u001b[0m         \u001b[0;32mif\u001b[0m \u001b[0;32mnot\u001b[0m \u001b[0mcb_handler\u001b[0m\u001b[0;34m.\u001b[0m\u001b[0mon_backward_end\u001b[0m\u001b[0;34m(\u001b[0m\u001b[0;34m)\u001b[0m\u001b[0;34m:\u001b[0m \u001b[0mopt\u001b[0m\u001b[0;34m.\u001b[0m\u001b[0mstep\u001b[0m\u001b[0;34m(\u001b[0m\u001b[0;34m)\u001b[0m\u001b[0;34m\u001b[0m\u001b[0;34m\u001b[0m\u001b[0m\n\u001b[1;32m     36\u001b[0m         \u001b[0;32mif\u001b[0m \u001b[0;32mnot\u001b[0m \u001b[0mcb_handler\u001b[0m\u001b[0;34m.\u001b[0m\u001b[0mon_step_end\u001b[0m\u001b[0;34m(\u001b[0m\u001b[0;34m)\u001b[0m\u001b[0;34m:\u001b[0m     \u001b[0mopt\u001b[0m\u001b[0;34m.\u001b[0m\u001b[0mzero_grad\u001b[0m\u001b[0;34m(\u001b[0m\u001b[0;34m)\u001b[0m\u001b[0;34m\u001b[0m\u001b[0;34m\u001b[0m\u001b[0m\n",
      "\u001b[0;32m/anaconda3/lib/python3.7/site-packages/torch/tensor.py\u001b[0m in \u001b[0;36mbackward\u001b[0;34m(self, gradient, retain_graph, create_graph)\u001b[0m\n\u001b[1;32m    100\u001b[0m                 \u001b[0mproducts\u001b[0m\u001b[0;34m.\u001b[0m \u001b[0mDefaults\u001b[0m \u001b[0mto\u001b[0m\u001b[0;31m \u001b[0m\u001b[0;31m`\u001b[0m\u001b[0;31m`\u001b[0m\u001b[0;32mFalse\u001b[0m\u001b[0;31m`\u001b[0m\u001b[0;31m`\u001b[0m\u001b[0;34m.\u001b[0m\u001b[0;34m\u001b[0m\u001b[0;34m\u001b[0m\u001b[0m\n\u001b[1;32m    101\u001b[0m         \"\"\"\n\u001b[0;32m--> 102\u001b[0;31m         \u001b[0mtorch\u001b[0m\u001b[0;34m.\u001b[0m\u001b[0mautograd\u001b[0m\u001b[0;34m.\u001b[0m\u001b[0mbackward\u001b[0m\u001b[0;34m(\u001b[0m\u001b[0mself\u001b[0m\u001b[0;34m,\u001b[0m \u001b[0mgradient\u001b[0m\u001b[0;34m,\u001b[0m \u001b[0mretain_graph\u001b[0m\u001b[0;34m,\u001b[0m \u001b[0mcreate_graph\u001b[0m\u001b[0;34m)\u001b[0m\u001b[0;34m\u001b[0m\u001b[0;34m\u001b[0m\u001b[0m\n\u001b[0m\u001b[1;32m    103\u001b[0m \u001b[0;34m\u001b[0m\u001b[0m\n\u001b[1;32m    104\u001b[0m     \u001b[0;32mdef\u001b[0m \u001b[0mregister_hook\u001b[0m\u001b[0;34m(\u001b[0m\u001b[0mself\u001b[0m\u001b[0;34m,\u001b[0m \u001b[0mhook\u001b[0m\u001b[0;34m)\u001b[0m\u001b[0;34m:\u001b[0m\u001b[0;34m\u001b[0m\u001b[0;34m\u001b[0m\u001b[0m\n",
      "\u001b[0;32m/anaconda3/lib/python3.7/site-packages/torch/autograd/__init__.py\u001b[0m in \u001b[0;36mbackward\u001b[0;34m(tensors, grad_tensors, retain_graph, create_graph, grad_variables)\u001b[0m\n\u001b[1;32m     88\u001b[0m     Variable._execution_engine.run_backward(\n\u001b[1;32m     89\u001b[0m         \u001b[0mtensors\u001b[0m\u001b[0;34m,\u001b[0m \u001b[0mgrad_tensors\u001b[0m\u001b[0;34m,\u001b[0m \u001b[0mretain_graph\u001b[0m\u001b[0;34m,\u001b[0m \u001b[0mcreate_graph\u001b[0m\u001b[0;34m,\u001b[0m\u001b[0;34m\u001b[0m\u001b[0;34m\u001b[0m\u001b[0m\n\u001b[0;32m---> 90\u001b[0;31m         allow_unreachable=True)  # allow_unreachable flag\n\u001b[0m\u001b[1;32m     91\u001b[0m \u001b[0;34m\u001b[0m\u001b[0m\n\u001b[1;32m     92\u001b[0m \u001b[0;34m\u001b[0m\u001b[0m\n",
      "\u001b[0;31mKeyboardInterrupt\u001b[0m: "
     ]
    }
   ],
   "source": [
    "learn.fit(10,lr=1e-03)"
   ]
  },
  {
   "cell_type": "code",
   "execution_count": 621,
   "metadata": {
    "scrolled": false
   },
   "outputs": [
    {
     "data": {
      "image/png": "[encoded data removed]",
      "text/plain": [
       "<Figure size 1440x1152 with 4 Axes>"
      ]
     },
     "metadata": {},
     "output_type": "display_data"
    }
   ],
   "source": [
    "fig = plt.figure(figsize=(20,16))\n",
    "gs = gridspec.GridSpec(2, 4)\n",
    "\n",
    "\n",
    "ax_i = plt.subplot(gs[0,:])\n",
    "ax_j = plt.subplot(gs[0+1,0])\n",
    "ax_k = plt.subplot(gs[0+1,1:3])\n",
    "ax_m = plt.subplot(gs[0+1,3:])\n",
    "\n",
    "\n",
    "ax_i.set_axis_off()\n",
    "\n",
    "jet_graph = df.iloc[13]\n",
    "full_graph = build_jet_graph(jet_graph,merging_dist=0)\n",
    "\n",
    "reco_g = full_graph.get_reco_graph()\n",
    "reco_g.sort_nodes()\n",
    "\n",
    "x,y = create_single_batch(reco_g)\n",
    "output = j_gnn(x[0],x[1],x[2])\n",
    "\n",
    "create_graph_plot(reco_g,ax_m)\n",
    "\n",
    "plot_locations(full_graph,ax_i)\n",
    "\n",
    "plot_tree_graph(jet_graph,ax_k)\n",
    "\n",
    "plot_graph_jet_image(reco_g,ax_j)\n",
    "\n",
    "\n",
    "pt = jet_graph.jet_pt\n",
    "eta = jet_graph.jet_eta\n",
    "flav = jet_graph.jet_DoubleHadLabel\n",
    "\n",
    "ax_i.set_title('Flavour : '+str(flav)+'   pt: '+'{0:.2f}'.format(pt/1000.0)+'   eta: '+'{0:.2f}'.format(eta) ,\n",
    "              fontsize=20)\n",
    "\n",
    "plt.tight_layout()\n",
    "plt.show()"
   ]
  },
  {
   "cell_type": "code",
   "execution_count": 622,
   "metadata": {},
   "outputs": [
    {
     "data": {
      "text/plain": [
       "array([2, 2, 0, 0, 0, 2, 0, 0, 0, 0, 0, 0, 1])"
      ]
     },
     "execution_count": 622,
     "metadata": {},
     "output_type": "execute_result"
    }
   ],
   "source": [
    "np.argmax( output.data.numpy() ,axis=1 )"
   ]
  },
  {
   "cell_type": "code",
   "execution_count": 623,
   "metadata": {},
   "outputs": [
    {
     "data": {
      "text/plain": [
       "tensor([2, 3, 0, 0, 0, 0, 0, 0, 0, 0, 0, 0, 1])"
      ]
     },
     "execution_count": 623,
     "metadata": {},
     "output_type": "execute_result"
    }
   ],
   "source": [
    "y"
   ]
  },
  {
   "cell_type": "code",
   "execution_count": null,
   "metadata": {},
   "outputs": [],
   "source": []
  },
  {
   "cell_type": "code",
   "execution_count": null,
   "metadata": {},
   "outputs": [],
   "source": []
  },
  {
   "cell_type": "code",
   "execution_count": null,
   "metadata": {},
   "outputs": [],
   "source": []
  },
  {
   "cell_type": "code",
   "execution_count": null,
   "metadata": {},
   "outputs": [],
   "source": []
  }
 ],
 "metadata": {
  "kernelspec": {
   "display_name": "Python 3",
   "language": "python",
   "name": "python3"
  },
  "language_info": {
   "codemirror_mode": {
    "name": "ipython",
    "version": 3
   },
   "file_extension": ".py",
   "mimetype": "text/x-python",
   "name": "python",
   "nbconvert_exporter": "python",
   "pygments_lexer": "ipython3",
   "version": "3.7.3"
  }
 },
 "nbformat": 4,
 "nbformat_minor": 2
}
